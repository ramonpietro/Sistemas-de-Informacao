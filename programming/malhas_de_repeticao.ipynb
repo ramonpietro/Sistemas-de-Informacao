{
 "cells": [
  {
   "cell_type": "markdown",
   "id": "11ce3c02",
   "metadata": {},
   "source": [
    "1) Faça um programa que peça ao usuário um número e imprima todos os números de um até o número dado.\n",
    "\n",
    "Exemplo:\n",
    "\n",
    "digite: 5\n",
    "\n",
    "imprime: 1 2 3 4 5"
   ]
  },
  {
   "cell_type": "code",
   "execution_count": 10,
   "id": "fcd22015",
   "metadata": {},
   "outputs": [
    {
     "name": "stdout",
     "output_type": "stream",
     "text": [
      "Insira um número: 8\n",
      "1\n",
      "2\n",
      "3\n",
      "4\n",
      "5\n",
      "6\n",
      "7\n",
      "8\n"
     ]
    }
   ],
   "source": [
    "numero = int(input('Insira um número: '))\n",
    "aux = 1\n",
    "while aux <= numero:\n",
    "    print(aux)\n",
    "    aux+= 1"
   ]
  },
  {
   "cell_type": "markdown",
   "id": "f26926ca",
   "metadata": {},
   "source": [
    "2) Peça ao usuário para digitar um número e imprima o fatorial de n."
   ]
  },
  {
   "cell_type": "code",
   "execution_count": 12,
   "id": "701044a9",
   "metadata": {},
   "outputs": [
    {
     "name": "stdout",
     "output_type": "stream",
     "text": [
      "Insira um número: 4\n",
      "O fatorial de 1 é 24.\n"
     ]
    }
   ],
   "source": [
    "numero = int(input('Insira um número: '))\n",
    "resultado = 1\n",
    "while numero > 1:\n",
    "    resultado *= numero\n",
    "    numero -= 1\n",
    "print(f'O fatorial de {numero} é {resultado}.')"
   ]
  },
  {
   "cell_type": "markdown",
   "id": "4dea0cc2",
   "metadata": {},
   "source": [
    "3) Peça ao usuário para digitar um número N e some todos os números de 1 a N utilizando o laço de repetição while."
   ]
  },
  {
   "cell_type": "code",
   "execution_count": 16,
   "id": "9e99d221",
   "metadata": {},
   "outputs": [
    {
     "name": "stdout",
     "output_type": "stream",
     "text": [
      "Insira um número: 5\n",
      "A soma de todos os números é 15\n"
     ]
    }
   ],
   "source": [
    "numero = int(input('Insira um número: '))\n",
    "soma = 0\n",
    "aux = 1\n",
    "while aux <= numero:\n",
    "    soma += aux\n",
    "    aux += 1\n",
    "    \n",
    "print(f'A soma de todos os números é {soma}')"
   ]
  },
  {
   "cell_type": "markdown",
   "id": "ade32c04",
   "metadata": {},
   "source": [
    "4) Faça um programa que imprima a tabuada do 9 (de 9 x 1 a 9 x 10) usando loops."
   ]
  },
  {
   "cell_type": "code",
   "execution_count": 19,
   "id": "b2f95a17",
   "metadata": {},
   "outputs": [
    {
     "name": "stdout",
     "output_type": "stream",
     "text": [
      "9 x 1 = 9\n",
      "9 x 2 = 18\n",
      "9 x 3 = 27\n",
      "9 x 4 = 36\n",
      "9 x 5 = 45\n",
      "9 x 6 = 54\n",
      "9 x 7 = 63\n",
      "9 x 8 = 72\n",
      "9 x 9 = 81\n",
      "9 x 10 = 90\n"
     ]
    }
   ],
   "source": [
    "numero = 9\n",
    "for i in range(1, 11):\n",
    "    multiplicacao = numero * i\n",
    "    print(f'{numero} x {i} = {multiplicacao}')"
   ]
  },
  {
   "cell_type": "markdown",
   "id": "be9879ca",
   "metadata": {},
   "source": [
    "5) Faça um programa, usando loops, que peça para um usuário digitar um número e que só finaliza quando o usuário digitar 0. Ao final imprima a soma de todos os números digitados."
   ]
  },
  {
   "cell_type": "code",
   "execution_count": 21,
   "id": "b8d05b1d",
   "metadata": {},
   "outputs": [
    {
     "name": "stdout",
     "output_type": "stream",
     "text": [
      "Insira um número e Digite 0 para sair: 2\n",
      "Insira um número e Digite 0 para sair: 5\n",
      "Insira um número e Digite 0 para sair: 15\n",
      "Insira um número e Digite 0 para sair: 0\n",
      "O somatório dos números inseridos é 22\n"
     ]
    }
   ],
   "source": [
    "soma = 0\n",
    "while True:\n",
    "    numero = int(input('Insira um número e Digite 0 para sair: '))\n",
    "    if numero == 0:\n",
    "        break\n",
    "    soma += numero\n",
    "print(f'O somatório dos números inseridos é {soma}')"
   ]
  },
  {
   "cell_type": "markdown",
   "id": "ce6d4605",
   "metadata": {},
   "source": [
    "7) Faça um programa que peça para o usuário digitar a idade, o salário e o sexo de uma pessoa até que as entradas digitadas sejam válidas.\n",
    "\n",
    "a. Idade: entre 0 e 150;\n",
    "\n",
    "b. Salário: maior que 0;\n",
    "\n",
    "c. Sexo: M, F ou Outro."
   ]
  },
  {
   "cell_type": "code",
   "execution_count": 28,
   "id": "98cc8061",
   "metadata": {},
   "outputs": [
    {
     "name": "stdout",
     "output_type": "stream",
     "text": [
      "Insira a sua idade: 151\n",
      "Insira o seu salário: 2222.22\n",
      "Insira o seu sexo: M\n",
      "Erro!\n"
     ]
    }
   ],
   "source": [
    "idade = int(input('Insira a sua idade: '))\n",
    "salario = float(input('Insira o seu salário: '))\n",
    "sexo = input('Insira o seu sexo: ')\n",
    "if idade < 0 or idade > 150 or salario < 0 or sexo not in ['M', 'F', 'Outro']:\n",
    "    print('Erro!')\n",
    "else:\n",
    "    print('Aceito!')\n",
    "        "
   ]
  },
  {
   "cell_type": "markdown",
   "id": "6ef32f5b",
   "metadata": {},
   "source": [
    "8) Desafio! - Calcule a soma de até mil termos da série 1 + 1/2 + 1/4 + 1/8 + 1/16 + ...\n",
    "\n",
    "Dica: Use três variáveis:\n",
    "\n",
    "• um contador, que começa em zero;\n",
    "\n",
    "• uma variável para a soma de todos os termos, que também começa em zero;\n",
    "\n",
    "• uma variável para cada termo, que começa em 1 e a cada loop é dividida por 2.\n",
    "\n",
    "A repetição da soma de mil termos pode ser feita com a função while contador < 1000."
   ]
  },
  {
   "cell_type": "code",
   "execution_count": 29,
   "id": "6bdc7914",
   "metadata": {},
   "outputs": [
    {
     "name": "stdout",
     "output_type": "stream",
     "text": [
      "A soma dos mil termos é 2.0\n"
     ]
    }
   ],
   "source": [
    "contador = 0\n",
    "soma = 0\n",
    "termo = 1\n",
    "while contador < 1000:\n",
    "    soma += termo\n",
    "    termo /= 2\n",
    "    contador += 1\n",
    "    \n",
    "print(f'A soma dos mil termos é {soma}')"
   ]
  },
  {
   "cell_type": "markdown",
   "id": "74226770",
   "metadata": {},
   "source": [
    "9) Super Desafio! - Calcule a soma de mil termos dos inversos dos fatoriais: 1/(1!) + 1/(2!) + 1/(3!) + 1/(4!) + ...\n",
    "\n",
    "Dica: Assim como no exercício anterior use três variáveis: um contador; uma variável para a soma; e uma variável para os termos. Lembre-se de que 4! = 4*3*2*1 que também é igual a 4*3!."
   ]
  },
  {
   "cell_type": "code",
   "execution_count": 32,
   "id": "32eb8704",
   "metadata": {},
   "outputs": [
    {
     "name": "stdout",
     "output_type": "stream",
     "text": [
      "A soma de mil termos dos inversos dos fatoriais é 1.7182818284590455\n"
     ]
    }
   ],
   "source": [
    "contador = 0\n",
    "soma = 0\n",
    "termo = 1\n",
    "while contador < 1000:\n",
    "    fatorial = 1\n",
    "    for i in range(1, contador + 2):\n",
    "        fatorial *= i\n",
    "    soma += 1 / fatorial\n",
    "    contador += 1\n",
    "    \n",
    "print(f'A soma de mil termos dos inversos dos fatoriais é {soma}')"
   ]
  },
  {
   "cell_type": "code",
   "execution_count": null,
   "id": "64b380f7",
   "metadata": {},
   "outputs": [],
   "source": []
  }
 ],
 "metadata": {
  "kernelspec": {
   "display_name": "Python 3 (ipykernel)",
   "language": "python",
   "name": "python3"
  },
  "language_info": {
   "codemirror_mode": {
    "name": "ipython",
    "version": 3
   },
   "file_extension": ".py",
   "mimetype": "text/x-python",
   "name": "python",
   "nbconvert_exporter": "python",
   "pygments_lexer": "ipython3",
   "version": "3.11.3"
  }
 },
 "nbformat": 4,
 "nbformat_minor": 5
}
