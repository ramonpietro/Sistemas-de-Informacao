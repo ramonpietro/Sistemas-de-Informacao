{
 "cells": [
  {
   "cell_type": "markdown",
   "id": "b32aeb5d",
   "metadata": {},
   "source": [
    "1. Crie uma tupla com todos os números de 0 a 9. Explore a sintaxe: use e depois não use parênteses"
   ]
  },
  {
   "cell_type": "code",
   "execution_count": 24,
   "id": "901e1b60",
   "metadata": {},
   "outputs": [
    {
     "name": "stdout",
     "output_type": "stream",
     "text": [
      "(1, 2, 3, 4, 5)\n",
      "(1, 2, 3, 4, 5)\n"
     ]
    }
   ],
   "source": [
    "numeros = (1, 2, 3, 4, 5)\n",
    "print(numeros)\n",
    "numeros = 1, 2, 3, 4, 5\n",
    "print(numeros)"
   ]
  },
  {
   "cell_type": "markdown",
   "id": "65a3c325",
   "metadata": {},
   "source": [
    "2. Crie uma função que recebe uma lista de números e devolve, nesta ordem, o mínimo, a média, o desvio padrão e o máximo.\n",
    "\n",
    "Dica: Use a biblioteca statistics (import statistics) para calcular o desvio padrão: desvio = statistics.stdev(lista)"
   ]
  },
  {
   "cell_type": "code",
   "execution_count": 2,
   "id": "94d50bb6",
   "metadata": {},
   "outputs": [
    {
     "name": "stdout",
     "output_type": "stream",
     "text": [
      "(6, 7.0, 1.0)\n"
     ]
    }
   ],
   "source": [
    "from statistics import stdev\n",
    "def listaDeNumeros(lista):\n",
    "    return min(lista), sum(lista) / len(lista), stdev(lista)\n",
    "\n",
    "print(listaDeNumeros([6, 7, 8]))"
   ]
  },
  {
   "cell_type": "markdown",
   "id": "002fd0f0",
   "metadata": {},
   "source": [
    "3. Crie uma função que recebe uma lista e retorna True se todos os seus elementos forem numéricos (int, float ou string contendo um int ou float) ou False do contrário. A função deve também retornar a lista tratada: transformar todas as entradas não numéricas em numéricas ou, no melhor caso, devolver a lista apenas."
   ]
  },
  {
   "cell_type": "code",
   "execution_count": 21,
   "id": "1a84b1e3",
   "metadata": {},
   "outputs": [
    {
     "name": "stdout",
     "output_type": "stream",
     "text": [
      "(False, [1, 4, 3, 2, 'abc', 6, 7])\n"
     ]
    }
   ],
   "source": [
    "def lista_Tratamento(lista):\n",
    "    listaTratada = []\n",
    "    for elemento in lista:\n",
    "        if isinstance(elemento, str):\n",
    "            try:\n",
    "                elementoNumerico = float(elemento)\n",
    "                listaTratada.append(elementoNumerico)\n",
    "            except:\n",
    "                return False, lista\n",
    "        elif isinstance(elemento, (int, float)):\n",
    "            listaTratada.append(elemento)\n",
    "        else:\n",
    "            return False, lista\n",
    "    return True, listaTratada\n",
    "\n",
    "lista = [1, 4, 3, 2, 'abc', 6, 7]\n",
    "print(lista_Tratamento(lista))"
   ]
  },
  {
   "cell_type": "markdown",
   "id": "a7741684",
   "metadata": {},
   "source": [
    "4. Faça uma função que recebe valores a, b e c, resolve a equação quadrática a*x**2 + b*x + c = 0 e retorna:\n",
    "\n",
    "a. o valor de Δ onde Δ = b**2- 4*a*c\n",
    "\n",
    "b. uma tupla com o valor do ponto de mínimo ou máximo: x_m = -b/(2*a) e y_m = -Δ/(4*a);\n",
    "\n",
    "c. uma lista contendo as raízes (a lista pode ser vazia, caso Δ<0; pode conter apenas um elemento, caso Δ = 0; ou conter duas raízes, caso Δ> 0)"
   ]
  },
  {
   "cell_type": "code",
   "execution_count": 16,
   "id": "5657d540",
   "metadata": {},
   "outputs": [
    {
     "name": "stdout",
     "output_type": "stream",
     "text": [
      "(10, (-0.25, -5.0), [0.5405694150420949, -1.040569415042095])\n"
     ]
    }
   ],
   "source": [
    "import math\n",
    "def quadratica(a, b, c):\n",
    "    raizes = []\n",
    "    delta = b * 2 - 4 * a * c\n",
    "    x_m = - b / (2 * a), - delta / 4 * a\n",
    "    \n",
    "    if delta > 0:\n",
    "        raizA = (- b + math.sqrt(delta)) / (2 * a)\n",
    "        raizB = (- b - math.sqrt(delta)) / (2 * a)\n",
    "        raizes = [raizA, raizB]\n",
    "    elif delta == 0:\n",
    "        raiz = - b / (2 * a)\n",
    "        raizes = [raiz]\n",
    "    return delta, x_m, raizes\n",
    "\n",
    "print(quadratica(2, 1, -1))"
   ]
  },
  {
   "cell_type": "markdown",
   "id": "4c72c68d",
   "metadata": {},
   "source": [
    "5. Crie um dicionário cujas chaves são os meses do ano e os valores são a duração (em dias) de cada mês.5. Crie um dicionário cujas chaves são os meses do ano e os valores são a duração (em dias) de cada mês."
   ]
  },
  {
   "cell_type": "code",
   "execution_count": 5,
   "id": "9e70b408",
   "metadata": {},
   "outputs": [],
   "source": [
    "meses = {'Janeiro': 31, 'Fevereiro': 28, 'Março': 30,\n",
    "         'Abril': 31, 'Maio': 30, 'Junho': 31,\n",
    "         'Julho': 30, 'Agosto': 31, 'Setembro': 30,\n",
    "         'Outubro': 31, 'Novembro': 30, 'Dezembro': 31}"
   ]
  },
  {
   "cell_type": "markdown",
   "id": "484c7f88",
   "metadata": {},
   "source": [
    "6. Imprima as chaves seguidas dos seus valores para dicionário criado no exercício anterior.\n",
    "\n",
    "Exemplo:\n",
    "\n",
    "Janeiro - 31\n",
    "\n",
    "Fevereiro - 28\n",
    "\n",
    "Março - 31\n",
    "\n",
    "Etc..."
   ]
  },
  {
   "cell_type": "code",
   "execution_count": 7,
   "id": "1ecfed7a",
   "metadata": {},
   "outputs": [
    {
     "name": "stdout",
     "output_type": "stream",
     "text": [
      "Janeiro - 31\n",
      "Fevereiro - 28\n",
      "Março - 30\n",
      "Abril - 31\n",
      "Maio - 30\n",
      "Junho - 31\n",
      "Julho - 30\n",
      "Agosto - 31\n",
      "Setembro - 30\n",
      "Outubro - 31\n",
      "Novembro - 30\n",
      "Dezembro - 31\n"
     ]
    }
   ],
   "source": [
    "meses = {'Janeiro': 31, 'Fevereiro': 28, 'Março': 30,\n",
    "         'Abril': 31, 'Maio': 30, 'Junho': 31,\n",
    "         'Julho': 30, 'Agosto': 31, 'Setembro': 30,\n",
    "         'Outubro': 31, 'Novembro': 30, 'Dezembro': 31}\n",
    "for ch, va in meses.items():\n",
    "    print(f'{ch} - {va}')"
   ]
  },
  {
   "cell_type": "markdown",
   "id": "a28cc042",
   "metadata": {},
   "source": [
    "7. Crie um dicionário para as seguintes relações:\n",
    "\n",
    "‘Banana’: 3.0\n",
    "\n",
    "‘Cebola’: 4.0\n",
    "\n",
    "‘Maçã’: 5.7\n",
    "\n",
    "‘Abacaxi’: 8.0"
   ]
  },
  {
   "cell_type": "code",
   "execution_count": 42,
   "id": "23ca1058",
   "metadata": {},
   "outputs": [
    {
     "name": "stdout",
     "output_type": "stream",
     "text": [
      "{'Banana': 3.0, 'Cebola': 4.0, 'Maçã': 5.7, 'Abacaxi': 8.0}\n"
     ]
    }
   ],
   "source": [
    "frutas = {'Banana': 3.0,\n",
    "         'Cebola': 4.0,\n",
    "         'Maçã': 5.7,\n",
    "         'Abacaxi': 8.0}\n",
    "print(frutas)"
   ]
  },
  {
   "cell_type": "markdown",
   "id": "0d1dce9a",
   "metadata": {},
   "source": [
    "8. Altere o valor da chave ‘Maçã’ no dicionário do exercício anterior para 8.6."
   ]
  },
  {
   "cell_type": "code",
   "execution_count": 43,
   "id": "6525cb10",
   "metadata": {},
   "outputs": [
    {
     "name": "stdout",
     "output_type": "stream",
     "text": [
      "{'Banana': 3.0, 'Cebola': 4.0, 'Maçã': 8.6, 'Abacaxi': 8.0}\n"
     ]
    }
   ],
   "source": [
    "frutas.update({'Maçã': 8.6})\n",
    "print(frutas)"
   ]
  },
  {
   "cell_type": "markdown",
   "id": "54db12a5",
   "metadata": {},
   "source": [
    "9. Crie uma função que receba os valores do nome, idade e e-mail de uma pessoa e guarde-os em um dicionário com as chaves ‘nome’, ‘idade’ e ‘email’, respectivamente. Sua função deve retornar esse dicionário."
   ]
  },
  {
   "cell_type": "code",
   "execution_count": 6,
   "id": "8360dda7",
   "metadata": {},
   "outputs": [
    {
     "data": {
      "text/plain": [
       "{'Nome': 'Luís', 'Idade': '20', 'Email': 'teste@teste.com'}"
      ]
     },
     "execution_count": 6,
     "metadata": {},
     "output_type": "execute_result"
    }
   ],
   "source": [
    "def cad(nome, idade, email):\n",
    "    return {'Nome': nome, 'Idade': idade, 'Email': email}\n",
    "\n",
    "nome = 'Luís'\n",
    "idade = '20'\n",
    "email = 'teste@teste.com'\n",
    "cad(nome, idade, email)"
   ]
  },
  {
   "cell_type": "markdown",
   "id": "182521ee",
   "metadata": {},
   "source": [
    "10. Como você armazenaria a seguinte tabela usando apenas dicionários? Tente imprimir o valor correspondente da linha Pedro x Coluna B.\n",
    "\n",
    "        Coluna A\tColuna B\n",
    "Maria\t1\t        5\n",
    "Pedro\t0.5\t        3\n",
    "João\t3.2\t        1"
   ]
  },
  {
   "cell_type": "code",
   "execution_count": 20,
   "id": "67b608bc",
   "metadata": {},
   "outputs": [
    {
     "name": "stdout",
     "output_type": "stream",
     "text": [
      "3\n"
     ]
    }
   ],
   "source": [
    "table = {\n",
    "    'Maria': {'Coluna A': 1, 'Coluna B': 5},\n",
    "    'Pedro': {'Coluna A': 0.5, 'Coluna B': 3},\n",
    "    'João': {'Coluna A': 3.2, 'Coluna B': 1}\n",
    "}\n",
    "print(table['Pedro']['Coluna B'])"
   ]
  },
  {
   "cell_type": "markdown",
   "id": "52410da5",
   "metadata": {},
   "source": [
    "11. Faça um programa que conte quantas vezes cada elemento aparece em uma lista (pode criar uma lista na mão). Esse programa deverá guardar os dados em um dicionário no qual as chaves são os elementos da lista e os valores são a contagem de quantas vezes esse elemento aparece."
   ]
  },
  {
   "cell_type": "code",
   "execution_count": 5,
   "id": "5e0075e8",
   "metadata": {},
   "outputs": [
    {
     "name": "stdout",
     "output_type": "stream",
     "text": [
      "['Cavalo', 'Burro', 'Macaco', 'Vespa', 'Abelha', 'Cobra', 'Vaca', 'Burro', 'Cachorro', 'Abelha', 'Baleia', 'Água-Viva', 'Abelha', 'Aranha', 'Capivara', 'Cobra', 'Coelho', 'Abelha', 'Água-Viva', 'Baleia', 'Cavalo', 'Água-Viva']\n",
      "{'Cavalo': 2, 'Burro': 2, 'Macaco': 1, 'Vespa': 1, 'Abelha': 4, 'Cobra': 2, 'Vaca': 1, 'Cachorro': 1, 'Baleia': 2, 'Água-Viva': 3, 'Aranha': 1, 'Capivara': 1, 'Coelho': 1}\n"
     ]
    }
   ],
   "source": [
    "def cont(lista):\n",
    "    dicio = {}\n",
    "    \n",
    "    for elemento in lista:\n",
    "        if elemento not in dicio.keys():\n",
    "            dicio[elemento] = 1\n",
    "        else:\n",
    "            dicio[elemento] += 1\n",
    "    \n",
    "    return dicio\n",
    "\n",
    "lista = ['Cavalo', 'Burro', 'Macaco', 'Vespa', 'Abelha', 'Cobra', 'Vaca', 'Burro', 'Cachorro', 'Abelha', 'Baleia', 'Água-Viva',\n",
    "        'Abelha', 'Aranha', 'Capivara', 'Cobra', 'Coelho', 'Abelha', 'Água-Viva', 'Baleia', 'Cavalo', 'Água-Viva']\n",
    "\n",
    "print(lista)\n",
    "print(cont(lista))"
   ]
  },
  {
   "cell_type": "markdown",
   "id": "93d4e388",
   "metadata": {},
   "source": [
    "12. Faça um programa que fique pedindo uma resposta do usuário, entre 1, 2 e 3. Se o usuário digitar 1, o programa deve cadastrar um novo usuário e guardar esse cadastro num dicionário cuja chave será o CPF da pessoa. Quando o usuário digitar 2, o programa deve imprimir os usuários cadastrados; e se o usuário digitar 3, o programa deve fechar.\n",
    "\n",
    "Exemplo do dicionário:\n",
    "\n",
    "‘987.654.321-00’: {‘nome’: Maria, ‘idade’: 20, ‘email’ : maria@mail.com}"
   ]
  },
  {
   "cell_type": "code",
   "execution_count": 38,
   "id": "ed7ca9c9",
   "metadata": {},
   "outputs": [
    {
     "name": "stdout",
     "output_type": "stream",
     "text": [
      "Insira um numero: 1\n",
      "Insira o CPF: 987.654.321-00\n",
      "Insira o nome: Maria\n",
      "Insira a idade: 20\n",
      "Insira o email: maria@mail.com\n",
      "Insira um numero: 2\n",
      "{'987.654.321-00': {'nome': 'Maria', 'idade': '20', 'email': 'maria@mail.com'}}\n",
      "Insira um numero: 3\n"
     ]
    }
   ],
   "source": [
    "usuario = {}\n",
    "while True:\n",
    "    opcao = int(input('Insira um numero: '))\n",
    "    if opcao == 1:\n",
    "        cpf = input('Insira o CPF: ')\n",
    "        nome = input('Insira o nome: ')\n",
    "        idade = input('Insira a idade: ')\n",
    "        email = input('Insira o email: ')\n",
    "        \n",
    "        usuario[cpf] = {\n",
    "            'nome': nome,\n",
    "            'idade': idade,\n",
    "            'email': email\n",
    "        }\n",
    "    elif opcao == 2:\n",
    "        print(usuario)\n",
    "    elif opcao == 3:\n",
    "        break\n",
    "    else:\n",
    "        print('Opção Invalida')"
   ]
  },
  {
   "cell_type": "markdown",
   "id": "4ad38827",
   "metadata": {},
   "source": [
    "13. Implemente um sistema de busca para o programa do exercício anterior. Isto é, se o usuário digitar 4, procure um determinado usuário pelo seu CPF."
   ]
  },
  {
   "cell_type": "code",
   "execution_count": 39,
   "id": "4cf9df8e",
   "metadata": {},
   "outputs": [
    {
     "name": "stdout",
     "output_type": "stream",
     "text": [
      "Insira um numero: 1\n",
      "Insira o CPF: 987.654.321-00\n",
      "Insira o nome: Maria\n",
      "Insira a idade: 19\n",
      "Insira o email: maria@mail.com\n",
      "Insira um numero: 2\n",
      "{'987.654.321-00': {'nome': 'Maria', 'idade': '19', 'email': 'maria@mail.com'}}\n",
      "Insira um numero: 4\n",
      "Informe o CPF: 987.654.321-00\n",
      "Usuário Encontrado: {'nome': 'Maria', 'idade': '19', 'email': 'maria@mail.com'}\n",
      "Insira um numero: 3\n"
     ]
    }
   ],
   "source": [
    "usuario = {}\n",
    "while True:\n",
    "    opcao = int(input('Insira um numero: '))\n",
    "    if opcao == 1:\n",
    "        cpf = input('Insira o CPF: ')\n",
    "        nome = input('Insira o nome: ')\n",
    "        idade = input('Insira a idade: ')\n",
    "        email = input('Insira o email: ')\n",
    "        \n",
    "        usuario[cpf] = {\n",
    "            'nome': nome,\n",
    "            'idade': idade,\n",
    "            'email': email\n",
    "        }\n",
    "    elif opcao == 2:\n",
    "        print(usuario)\n",
    "    elif opcao == 3:\n",
    "        break\n",
    "    elif opcao == 4:\n",
    "        cpf = input('Informe o CPF: ')\n",
    "        if cpf in usuario:\n",
    "            print(f'Usuário Encontrado: {usuario[cpf]}')\n",
    "        else:\n",
    "            print('Usuário não encontrado.')\n",
    "    else:\n",
    "        print('Opção Invalida')"
   ]
  },
  {
   "cell_type": "code",
   "execution_count": null,
   "id": "e16fa8d2",
   "metadata": {},
   "outputs": [],
   "source": []
  }
 ],
 "metadata": {
  "kernelspec": {
   "display_name": "Python 3 (ipykernel)",
   "language": "python",
   "name": "python3"
  },
  "language_info": {
   "codemirror_mode": {
    "name": "ipython",
    "version": 3
   },
   "file_extension": ".py",
   "mimetype": "text/x-python",
   "name": "python",
   "nbconvert_exporter": "python",
   "pygments_lexer": "ipython3",
   "version": "3.11.3"
  }
 },
 "nbformat": 4,
 "nbformat_minor": 5
}
