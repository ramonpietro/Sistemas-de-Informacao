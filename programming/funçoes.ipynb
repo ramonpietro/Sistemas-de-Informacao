{
 "cells": [
  {
   "cell_type": "markdown",
   "id": "4a08fd33",
   "metadata": {},
   "source": [
    "1. Faça uma função que recebe um número e imprime seu dobro."
   ]
  },
  {
   "cell_type": "code",
   "execution_count": 14,
   "id": "598fd90a",
   "metadata": {},
   "outputs": [
    {
     "name": "stdout",
     "output_type": "stream",
     "text": [
      "Insira um número: 3\n"
     ]
    },
    {
     "data": {
      "text/plain": [
       "6"
      ]
     },
     "execution_count": 14,
     "metadata": {},
     "output_type": "execute_result"
    }
   ],
   "source": [
    "def dobro():\n",
    "    n = int(input('Insira um número: '))\n",
    "    return n * 2\n",
    "dobro()"
   ]
  },
  {
   "cell_type": "markdown",
   "id": "12485660",
   "metadata": {},
   "source": [
    "2. Faça uma função que recebe o valor do raio de um círculo e retorna o valor do comprimento de sua circunferência: C = 2*pi*r."
   ]
  },
  {
   "cell_type": "code",
   "execution_count": 20,
   "id": "ab169f93",
   "metadata": {},
   "outputs": [
    {
     "name": "stdout",
     "output_type": "stream",
     "text": [
      "Entre com um raio: 18\n",
      "113.10\n"
     ]
    }
   ],
   "source": [
    "import math\n",
    "def circunferencia(raio):\n",
    "    return 2 * math.pi * raio\n",
    "    \n",
    "print(f'%.2f'%circunferencia(int(input('Entre com um raio: '))))"
   ]
  },
  {
   "cell_type": "markdown",
   "id": "d5b5a9cb",
   "metadata": {},
   "source": [
    "3. Faça uma função para cada operação matemática básica (soma, subtração, multiplicação e divisão). As funções devem receber dois números e retornar o resultado da operação."
   ]
  },
  {
   "cell_type": "code",
   "execution_count": 5,
   "id": "7c74dffa",
   "metadata": {},
   "outputs": [
    {
     "name": "stdout",
     "output_type": "stream",
     "text": [
      "Soma: 4\n",
      "Subtração: 4\n",
      "Multiplicação: 36\n",
      "Divisão: 3.0\n"
     ]
    }
   ],
   "source": [
    "def soma(num1, num2):\n",
    "    return num1 + num2\n",
    "\n",
    "def subtracao(num1, num2):\n",
    "    return num1 - num2\n",
    "\n",
    "def multiplicacao(num1, num2):\n",
    "    return num1 * num2\n",
    "\n",
    "def divisao(num1, num2):\n",
    "    return num1 / num2\n",
    "\n",
    "res_soma = soma(2, 2)\n",
    "res_sub = subtracao(5, 1)\n",
    "res_multi = multiplicacao(6, 6)\n",
    "res_div = divisao(6, 2)\n",
    "print(f'Soma: {res_soma}\\nSubtração: {res_sub}\\nMultiplicação: {res_multi}\\nDivisão: {res_div}')"
   ]
  },
  {
   "cell_type": "markdown",
   "id": "48d487fd",
   "metadata": {},
   "source": [
    "4. Faça uma função que recebe um nome e imprime “olá, [nome]”."
   ]
  },
  {
   "cell_type": "code",
   "execution_count": 24,
   "id": "422a3165",
   "metadata": {},
   "outputs": [
    {
     "name": "stdout",
     "output_type": "stream",
     "text": [
      "Qual o seu nome? Pietro\n"
     ]
    },
    {
     "data": {
      "text/plain": [
       "'Ola, Pietro'"
      ]
     },
     "execution_count": 24,
     "metadata": {},
     "output_type": "execute_result"
    }
   ],
   "source": [
    "def saudacao():\n",
    "    nome = input('Qual o seu nome? ')\n",
    "    return f'Ola, {nome}'\n",
    "saudacao()"
   ]
  },
  {
   "cell_type": "markdown",
   "id": "f897e278",
   "metadata": {},
   "source": [
    "5. Faça uma função que recebe um nome e um horário e imprime “Bom dia, [nome]”, caso seja antes de 12h, “Boa Tarde, [nome]”, caso seja entre 12h e 18h e “Boa noite, [nome]” se for após às 18h."
   ]
  },
  {
   "cell_type": "code",
   "execution_count": 32,
   "id": "45d9d637",
   "metadata": {},
   "outputs": [
    {
     "name": "stdout",
     "output_type": "stream",
     "text": [
      "Me diga o seu nome: Ramon\n",
      "E o horário: 19\n",
      "Boa noite, Ramon\n"
     ]
    }
   ],
   "source": [
    "def saudacao():\n",
    "    nome = input('Me diga o seu nome: ')\n",
    "    horario = int(input('E o horário: '))\n",
    "    if horario < 12:\n",
    "        print(f'Bom dia, {nome}')\n",
    "    elif horario >= 12 and horario < 18:\n",
    "        print(f'Boa tarde, {nome}')\n",
    "    else:\n",
    "        print(f'Boa noite, {nome}')\n",
    "\n",
    "saudacao()"
   ]
  },
  {
   "cell_type": "markdown",
   "id": "81244c29",
   "metadata": {},
   "source": [
    "6. Faça uma função que recebe um número e retorna True se ele é par ou False, se ele é ímpar."
   ]
  },
  {
   "cell_type": "code",
   "execution_count": 36,
   "id": "116e3098",
   "metadata": {},
   "outputs": [
    {
     "name": "stdout",
     "output_type": "stream",
     "text": [
      "Insira um número: 3\n",
      "False\n"
     ]
    }
   ],
   "source": [
    "def evenodd():\n",
    "    num = int(input('Insira um número: '))\n",
    "    if num % 2 == 0:\n",
    "        print(True)\n",
    "    else:\n",
    "        print(False)\n",
    "        \n",
    "evenodd()"
   ]
  },
  {
   "cell_type": "markdown",
   "id": "e2a35602",
   "metadata": {},
   "source": [
    "7. Faça uma função que sorteia 10 números aleatórios entre 0 e 100 e retorna o maior entre eles."
   ]
  },
  {
   "cell_type": "code",
   "execution_count": 39,
   "id": "8e3b65c0",
   "metadata": {},
   "outputs": [
    {
     "name": "stdout",
     "output_type": "stream",
     "text": [
      "[31, 81, 70, 84, 7, 40, 52, 50, 65, 68]\n"
     ]
    },
    {
     "data": {
      "text/plain": [
       "84"
      ]
     },
     "execution_count": 39,
     "metadata": {},
     "output_type": "execute_result"
    }
   ],
   "source": [
    "import random\n",
    "def numRand():\n",
    "    num = random.sample(range(1, 101), 10)\n",
    "    print(num)\n",
    "    return max(num)\n",
    "\n",
    "numRand()"
   ]
  },
  {
   "cell_type": "markdown",
   "id": "db0b4d1e",
   "metadata": {},
   "source": [
    "8. Faça uma função que recebe um número n de entrada, sorteia n números aleatórios entre 0 e 100 e retorna a média deles."
   ]
  },
  {
   "cell_type": "code",
   "execution_count": 43,
   "id": "5889e10b",
   "metadata": {},
   "outputs": [
    {
     "name": "stdout",
     "output_type": "stream",
     "text": [
      "Insira o número: 4\n",
      "[1, 89, 69, 29]\n"
     ]
    },
    {
     "data": {
      "text/plain": [
       "47.0"
      ]
     },
     "execution_count": 43,
     "metadata": {},
     "output_type": "execute_result"
    }
   ],
   "source": [
    "import random\n",
    "def media():\n",
    "    n = int(input('Insira o número: '))\n",
    "    num = random.sample(range(1, 101), n)\n",
    "    print(num)\n",
    "    return sum(num) / len(num)\n",
    "    \n",
    "media()"
   ]
  },
  {
   "cell_type": "markdown",
   "id": "1b28e702",
   "metadata": {},
   "source": [
    "9. Faça uma função que recebe uma lista de palavras e retorna uma lista contendo as mesmas palavras da lista anterior, porém escritas em caixa alta."
   ]
  },
  {
   "cell_type": "code",
   "execution_count": 1,
   "id": "94d8cefb",
   "metadata": {},
   "outputs": [
    {
     "name": "stdout",
     "output_type": "stream",
     "text": [
      "Insira palavras separadas por espaços: arvore mesa casa barco\n"
     ]
    },
    {
     "data": {
      "text/plain": [
       "['ARVORE', 'MESA', 'CASA', 'BARCO']"
      ]
     },
     "execution_count": 1,
     "metadata": {},
     "output_type": "execute_result"
    }
   ],
   "source": [
    "def lowerToUpper():\n",
    "    palavras = input('Insira palavras separadas por espaços: ')\n",
    "    lista = palavras.split()\n",
    "    convert = [i.upper() for i in lista]\n",
    "    return convert\n",
    "    \n",
    "lowerToUpper()"
   ]
  },
  {
   "cell_type": "markdown",
   "id": "035d3532",
   "metadata": {},
   "source": [
    "10. Faça uma função que recebe duas listas e retorna a soma item a item dessas listas.\n",
    "\n",
    "Exemplo: Se a função receber as listas [1,4,3] e [3,5,1], então a função deve retornar [1+3, 4+5, 3+1] = [4, 9, 4]."
   ]
  },
  {
   "cell_type": "code",
   "execution_count": 9,
   "id": "21966829",
   "metadata": {},
   "outputs": [
    {
     "name": "stdout",
     "output_type": "stream",
     "text": [
      "[7, 9, 11, 13]\n"
     ]
    }
   ],
   "source": [
    "def soma(lista1, lista2):\n",
    "    soma = []\n",
    "    for i in range(len(lista1)):\n",
    "        soma.append(lista1[i] + lista2[i])\n",
    "    return soma\n",
    "\n",
    "entrada1 = [1, 2, 3, 4]\n",
    "entrada2 = [6, 7, 8, 9]\n",
    "resultado = soma(entrada1, entrada2)\n",
    "print(resultado)"
   ]
  },
  {
   "cell_type": "markdown",
   "id": "81c2ea01",
   "metadata": {},
   "source": [
    "11. Faça uma função que receba duas listas e retorne o produto item a item dessas listas.\n",
    "\n",
    "Exemplo: Se a função receber as listas [1,4,3] e [3,5,1], então a função deve retornar [1x3, 4x5, 3x1] = [3, 20, 3]."
   ]
  },
  {
   "cell_type": "code",
   "execution_count": 10,
   "id": "7ff45d0b",
   "metadata": {},
   "outputs": [
    {
     "name": "stdout",
     "output_type": "stream",
     "text": [
      "[3, 20, 3]\n"
     ]
    }
   ],
   "source": [
    "def produto(lista1, lista2):\n",
    "    produto = []\n",
    "    for i in range(len(lista1)):\n",
    "        produto.append(lista1[i] * lista2[i])\n",
    "    return produto\n",
    "entrada1 = [1, 4, 3]\n",
    "entrada2 = [3, 5, 1]\n",
    "resultado = produto(entrada1, entrada2)\n",
    "print(resultado)"
   ]
  },
  {
   "cell_type": "markdown",
   "id": "828db1b5",
   "metadata": {},
   "source": [
    "12. Faça uma função que recebe um número x e uma lista numérica e retorna uma lista cujos elementos são os itens da lista de entrada multiplicado por x.\n",
    "\n",
    "Exemplo:\n",
    "\n",
    "Se a função receber o número 5 e a lista [3,5,1], então a função deve retornar [5x3, 5x5, 5x1] = [15, 25, 5].\n"
   ]
  },
  {
   "cell_type": "code",
   "execution_count": 17,
   "id": "3bc95998",
   "metadata": {},
   "outputs": [
    {
     "name": "stdout",
     "output_type": "stream",
     "text": [
      "[15, 25, 5]\n"
     ]
    }
   ],
   "source": [
    "def mult(num, lista):\n",
    "    multiplicacao = []\n",
    "    for i in lista:\n",
    "        multiplicacao.append(num * i)\n",
    "    return multiplicacao\n",
    "num = 5\n",
    "lista = [3, 5, 1]\n",
    "resultado = mult(num, lista)\n",
    "print(resultado)"
   ]
  },
  {
   "cell_type": "markdown",
   "id": "f3ed362e",
   "metadata": {},
   "source": [
    "13. Faça uma função que recebe uma lista de números e retorna a soma dos elementos dessa lista."
   ]
  },
  {
   "cell_type": "code",
   "execution_count": 19,
   "id": "75b5d5a8",
   "metadata": {},
   "outputs": [
    {
     "name": "stdout",
     "output_type": "stream",
     "text": [
      "[6, 8, 10]\n"
     ]
    }
   ],
   "source": [
    "def soma_elementos(lista1, lista2):\n",
    "    soma = []\n",
    "    for i in range(len(lista1)):\n",
    "        soma.append(lista1[i] + lista2[i])\n",
    "    return soma\n",
    "\n",
    "lista1 = [1, 2, 3]\n",
    "lista2 = [5, 6, 7]\n",
    "resultado = soma_elementos(lista1, lista2)\n",
    "print(resultado)\n",
    "    "
   ]
  },
  {
   "cell_type": "markdown",
   "id": "31536e77",
   "metadata": {},
   "source": [
    "14. Faça uma função que recebe uma lista de números e retorna a média aritmética dos elementos dessa lista."
   ]
  },
  {
   "cell_type": "code",
   "execution_count": 20,
   "id": "832ff052",
   "metadata": {},
   "outputs": [
    {
     "name": "stdout",
     "output_type": "stream",
     "text": [
      "6.0\n"
     ]
    }
   ],
   "source": [
    "def media(lista):\n",
    "    media = sum(lista) / len(lista)\n",
    "    return media\n",
    "\n",
    "lista = [4, 6, 8]\n",
    "resultado = media(lista)\n",
    "print(resultado)"
   ]
  },
  {
   "cell_type": "markdown",
   "id": "2b2f9f81",
   "metadata": {},
   "source": [
    "Desafio 1 - Faça uma função que receba um número e calcule seu fatorial."
   ]
  },
  {
   "cell_type": "code",
   "execution_count": 24,
   "id": "5ad4ef10",
   "metadata": {},
   "outputs": [
    {
     "name": "stdout",
     "output_type": "stream",
     "text": [
      "120\n"
     ]
    }
   ],
   "source": [
    "def fatorial(num):\n",
    "    resultado = 1\n",
    "    for i in range(1, num + 1):\n",
    "        resultado *= i\n",
    "    return resultado\n",
    "\n",
    "num = 5\n",
    "resultado = fatorial(num)\n",
    "print(resultado)"
   ]
  },
  {
   "cell_type": "markdown",
   "id": "044bfd36",
   "metadata": {},
   "source": [
    "Desafio 3 - A sequência Fibonacci é a sequência cujos dois primeiros termos são 1 e os demais são obtidos através da soma de seus dois antecessores, isso é:\n",
    "\n",
    "a. Fibonacci(1) = 1 e Fibonacci(2) = 2;\n",
    "\n",
    "b. dado qualquer número n >= 3, Fibonacci(n) = Fibonacci(n-1) + Fibonacci(n-2)\n",
    "\n",
    "Assim, os 10 primeiros termos da sequência Fibonacci são:\n",
    "\n",
    "1, 1, 2, 3, 5, 8, 13, 21, 34, 55…\n",
    "\n",
    "Faça uma função que receba um número n e calcule o termo de número n da sequência Fibonacci."
   ]
  },
  {
   "cell_type": "code",
   "execution_count": 34,
   "id": "c10f2f22",
   "metadata": {},
   "outputs": [
    {
     "name": "stdout",
     "output_type": "stream",
     "text": [
      "Insira um número inteiro: 6\n",
      "O 6 número na sequência Fibonacci é o 8\n"
     ]
    },
    {
     "data": {
      "text/plain": [
       "8"
      ]
     },
     "execution_count": 34,
     "metadata": {},
     "output_type": "execute_result"
    }
   ],
   "source": [
    "def fibonacci(num):\n",
    "    num_ant = 1\n",
    "    num_at = 1\n",
    "    for i in range(num - 2):\n",
    "        prox_num = num_ant + num_at\n",
    "        num_ant = num_at\n",
    "        num_at = prox_num\n",
    "    return prox_num\n",
    "\n",
    "n = int(input('Insira um número inteiro: '))\n",
    "print(f'O {n} número na sequência Fibonacci é o {fibonacci(n)}')"
   ]
  },
  {
   "cell_type": "markdown",
   "id": "e3bc8f90",
   "metadata": {},
   "source": [
    "Super Desafio! - Repita o exercício anterior usando recursão, ou seja, uma função que chame ela mesma, lembrando que 3! = 3*2!, que 2! = 2*1!, que 1! = 1*0! e que 0! = 1."
   ]
  },
  {
   "cell_type": "code",
   "execution_count": 37,
   "id": "b602c771",
   "metadata": {},
   "outputs": [
    {
     "name": "stdout",
     "output_type": "stream",
     "text": [
      "120\n"
     ]
    }
   ],
   "source": [
    "def fatorial(n):\n",
    "    return 1 if n == 1 else fatorial(n - 1) * n\n",
    "\n",
    "num = 5\n",
    "resultado = fatorial(num)\n",
    "print(resultado)"
   ]
  },
  {
   "cell_type": "markdown",
   "id": "9127fdc0",
   "metadata": {},
   "source": [
    "Desafio 2 - Faça uma função que recebe duas entradas: um input dado pelo usuário e um string que informa o tipo de dado (\"idade\", \"salário\" ou \"sexo\"), e verifica se os dados digitados foram válidos, usando os seguintes critérios:\n",
    "\n",
    "a. Idade: entre 0 e 150;\n",
    "\n",
    "b. Salário: maior que 0;\n",
    "\n",
    "c. Sexo: M, F ou Outro."
   ]
  },
  {
   "cell_type": "code",
   "execution_count": 31,
   "id": "6c2390f5",
   "metadata": {},
   "outputs": [
    {
     "name": "stdout",
     "output_type": "stream",
     "text": [
      "Digite a informação: M\n",
      "Qual o tipo de informação (idade, salario ou sexo)?: sexo\n",
      "Tudo certo!\n"
     ]
    }
   ],
   "source": [
    "def validacao(dado, tipo):\n",
    "    if tipo == 'idade':\n",
    "        if 0 <= int(dado) <= 150:\n",
    "            return True\n",
    "        else:\n",
    "            return False\n",
    "    elif tipo == 'salario':\n",
    "        if float(dado) > 0:\n",
    "            return True\n",
    "        else:\n",
    "            return False\n",
    "    elif tipo == 'sexo':\n",
    "        if dado in ['M', 'F', 'Outro']:\n",
    "            return True\n",
    "        else:\n",
    "            return False\n",
    "        \n",
    "dado = input('Digite a informação: ')\n",
    "tipo = input('Qual o tipo de informação (idade, salario ou sexo)?: ')\n",
    "\n",
    "if validacao(dado, tipo):\n",
    "    print('Tudo certo!')\n",
    "else:\n",
    "    print('Erro!')"
   ]
  },
  {
   "cell_type": "markdown",
   "id": "4de1be69",
   "metadata": {},
   "source": [
    "Super Desafio! - Refaça o desafio 3 usando recursão."
   ]
  },
  {
   "cell_type": "code",
   "execution_count": null,
   "id": "b55ed43a",
   "metadata": {},
   "outputs": [],
   "source": [
    "def fatorial(n):\n",
    "    return 1 if n == 1 else fatorial(n - 1) * n\n",
    "\n",
    "num = 5\n",
    "resultado = fatorial(num)\n",
    "print(resultado)"
   ]
  }
 ],
 "metadata": {
  "kernelspec": {
   "display_name": "Python 3 (ipykernel)",
   "language": "python",
   "name": "python3"
  },
  "language_info": {
   "codemirror_mode": {
    "name": "ipython",
    "version": 3
   },
   "file_extension": ".py",
   "mimetype": "text/x-python",
   "name": "python",
   "nbconvert_exporter": "python",
   "pygments_lexer": "ipython3",
   "version": "3.11.3"
  }
 },
 "nbformat": 4,
 "nbformat_minor": 5
}
