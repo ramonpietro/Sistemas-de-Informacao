{
 "cells": [
  {
   "cell_type": "markdown",
   "id": "11bf1838",
   "metadata": {},
   "source": [
    "### 1) Faça um programa que mostre a mensagem \"Olá, mundo!\" na tela."
   ]
  },
  {
   "cell_type": "code",
   "execution_count": 2,
   "id": "eee01abf",
   "metadata": {},
   "outputs": [
    {
     "name": "stdout",
     "output_type": "stream",
     "text": [
      "Olá, mundo!\n"
     ]
    }
   ],
   "source": [
    "print('Olá, mundo!')"
   ]
  },
  {
   "cell_type": "markdown",
   "id": "f69a0f62",
   "metadata": {},
   "source": [
    "### 2) Faça um programa que peça um número e mostre a mensagem \"O número informado foi [número]\""
   ]
  },
  {
   "cell_type": "code",
   "execution_count": 3,
   "id": "9f5c76d1",
   "metadata": {},
   "outputs": [
    {
     "name": "stdout",
     "output_type": "stream",
     "text": [
      "2\n",
      "O número informado foi 2\n"
     ]
    }
   ],
   "source": [
    "num = int(input())\n",
    "print(f'O número informado foi {num}')"
   ]
  },
  {
   "cell_type": "markdown",
   "id": "be916ba1",
   "metadata": {},
   "source": [
    "### 3) Faça um programa que peça um número para o usuário (string), converta-o para float e depois imprima-o na tela. Você consegue fazer a mesma coisa, porém convertendo para int?"
   ]
  },
  {
   "cell_type": "code",
   "execution_count": 4,
   "id": "cf3c9675",
   "metadata": {},
   "outputs": [
    {
     "name": "stdout",
     "output_type": "stream",
     "text": [
      "2\n",
      "2.0\n"
     ]
    }
   ],
   "source": [
    "numero = input()\n",
    "numfloat = float(numero)\n",
    "print(numfloat)"
   ]
  },
  {
   "cell_type": "code",
   "execution_count": 5,
   "id": "37bef1bd",
   "metadata": {},
   "outputs": [
    {
     "name": "stdout",
     "output_type": "stream",
     "text": [
      "3.14\n",
      "3\n"
     ]
    }
   ],
   "source": [
    "num = input()\n",
    "numfloat = float(num)\n",
    "numint = int(numfloat)\n",
    "print(numint)"
   ]
  },
  {
   "cell_type": "markdown",
   "id": "39376127",
   "metadata": {},
   "source": [
    "### 4) Faça um programa que peça dois números inteiros e imprima a soma deles."
   ]
  },
  {
   "cell_type": "code",
   "execution_count": 6,
   "id": "95fa16a2",
   "metadata": {},
   "outputs": [
    {
     "name": "stdout",
     "output_type": "stream",
     "text": [
      "Digite um número: 2\n",
      "Digite outro número: 2\n",
      "O resultado é: 4\n"
     ]
    }
   ],
   "source": [
    "num1 = int(input(\"Digite um número: \"))\n",
    "num2 = int(input(\"Digite outro número: \"))\n",
    "resultado = num1 + num2\n",
    "\n",
    "print(f\"O resultado é: {resultado}\")"
   ]
  },
  {
   "cell_type": "markdown",
   "id": "8b8373f7",
   "metadata": {},
   "source": [
    "### 5) Faça um programa que peça as 4 notas bimestrais de um aluno e mostre a média aritmética delas."
   ]
  },
  {
   "cell_type": "code",
   "execution_count": 11,
   "id": "e07c1333",
   "metadata": {},
   "outputs": [
    {
     "name": "stdout",
     "output_type": "stream",
     "text": [
      "Insira a primeira nota: 5.6\n",
      "Insira a segunda nota: 6.7\n",
      "Insira a terceira nota: 8.2\n",
      "Insira a quarta nota: 10.0\n",
      "Sua média final é de: 7.62\n"
     ]
    }
   ],
   "source": [
    "nota1 = float(input(\"Insira a primeira nota: \"))\n",
    "nota2 = float(input(\"Insira a segunda nota: \"))\n",
    "nota3 = float(input(\"Insira a terceira nota: \"))\n",
    "nota4 = float(input(\"Insira a quarta nota: \"))\n",
    "media = (nota1 + nota2 + nota3 + nota4) / 4\n",
    "formatted_media = \"{:.2f}\".format(media)\n",
    "print(f'Sua média final é de: {formatted_media}')"
   ]
  },
  {
   "cell_type": "markdown",
   "id": "0c3d2766",
   "metadata": {},
   "source": [
    "### 6) Faça um programa que peça o raio de um círculo, calcule e mostre sua área.\n",
    "#### Obs: Fórmula da área de um círculo: A = 3,14*(r**2), onde r é o raio."
   ]
  },
  {
   "cell_type": "code",
   "execution_count": 14,
   "id": "e85fbce7",
   "metadata": {},
   "outputs": [
    {
     "name": "stdout",
     "output_type": "stream",
     "text": [
      "Insira o raio do círculo: 12.5\n",
      "A área do círculo é de: 490.625\n"
     ]
    }
   ],
   "source": [
    "raio = float(input('Insira o raio do círculo: '))\n",
    "area = 3.14 * (raio ** 2)\n",
    "print(f'A área do círculo é de: {area}')"
   ]
  },
  {
   "cell_type": "markdown",
   "id": "9550d1d9",
   "metadata": {},
   "source": [
    "### 7) Faça um programa que pergunte quanto você ganha por hora e o número de horas trabalhadas no mês e depois, calcule e mostre o total do seu salário no referido mês."
   ]
  },
  {
   "cell_type": "code",
   "execution_count": 54,
   "id": "049f4bf9",
   "metadata": {},
   "outputs": [
    {
     "name": "stdout",
     "output_type": "stream",
     "text": [
      "Ganho por hora: 15.5\n",
      "Horas trabalhadas no mês: 120.0\n",
      "O total do salário no més é de: R$1860.00\n"
     ]
    }
   ],
   "source": [
    "salHora = float(input(\"Ganho por hora: \"))\n",
    "horas = float(input(\"Horas trabalhadas no mês: \"))\n",
    "totalSalario = salHora * horas\n",
    "formatted_sal = \"{:.2f}\".format(totalSalario)\n",
    "print(f'O total do salário no més é de: R${formatted_sal}')"
   ]
  },
  {
   "cell_type": "markdown",
   "id": "3f04aa64",
   "metadata": {},
   "source": [
    "### 8) Faça um programa que peça a temperatura em graus Fahrenheit (F), transforme e mostre a temperatura em graus Celsius (°C).\n",
    "### °C = (5 * (F-32) / 9)\n",
    "#### Obs: Tente também fazer um programa que faça o inverso: peça a temperatura em graus Celsius e a transforme em graus Fahrenheit."
   ]
  },
  {
   "cell_type": "code",
   "execution_count": 55,
   "id": "baaecc60",
   "metadata": {},
   "outputs": [
    {
     "name": "stdout",
     "output_type": "stream",
     "text": [
      "Insira a temperatura em Fahrenheit: 77.0\n",
      "Em Celsius: 25.0\n"
     ]
    }
   ],
   "source": [
    "graus_fahrenheit = float(input('Insira a temperatura em Fahrenheit: '))\n",
    "celsius = (5 * (graus_fahrenheit - 32) / 9)\n",
    "print(f'Em Celsius: {celsius}')"
   ]
  },
  {
   "cell_type": "code",
   "execution_count": 22,
   "id": "f596fc71",
   "metadata": {},
   "outputs": [
    {
     "name": "stdout",
     "output_type": "stream",
     "text": [
      "Insira a temperatura em Celsius: 25.0\n",
      "Em Fahrenheit: 77.0\n"
     ]
    }
   ],
   "source": [
    "graus_celsius = float(input('Insira a temperatura em Celsius: '))\n",
    "F = (graus_celsius * 9 / 5) + 32\n",
    "print(f'Em Fahrenheit: {F}')"
   ]
  },
  {
   "cell_type": "markdown",
   "id": "252a2175",
   "metadata": {},
   "source": [
    "### 9) Faça um programa que peça o dia, o mês e o ano para o usuário e imprima a data completa no formato dd/mm/aaaa."
   ]
  },
  {
   "cell_type": "code",
   "execution_count": 25,
   "id": "d5501567",
   "metadata": {},
   "outputs": [
    {
     "name": "stdout",
     "output_type": "stream",
     "text": [
      "18\n",
      "06\n",
      "1996\n",
      "A data completa é: 18/06/1996\n"
     ]
    }
   ],
   "source": [
    "dia = input()\n",
    "mes = input()\n",
    "ano = input()\n",
    "data = dia + '/' + mes + '/' + ano\n",
    "print(f'A data completa é: {data}')"
   ]
  },
  {
   "cell_type": "markdown",
   "id": "a285bc93",
   "metadata": {},
   "source": [
    "### 10) Faça um programa que peça 2 números inteiros e um número real, calcule e mostre:\n",
    "#### a) o produto do dobro do primeiro com metade do segundo.\n",
    "#### b) a soma do triplo do primeiro com o terceiro.\n",
    "#### c) o terceiro elevado ao cubo."
   ]
  },
  {
   "cell_type": "code",
   "execution_count": 30,
   "id": "d40cec86",
   "metadata": {},
   "outputs": [
    {
     "name": "stdout",
     "output_type": "stream",
     "text": [
      "Insira um número inteiro: 2\n",
      "Insira outro número inteiro: 7\n",
      "Insira um número real: 3.3\n",
      "O produto do dobro do 2 com metade do 7 é: 14.0\n",
      "A soma do triplo do 2 com o 3.3 é: 9.3\n",
      "O 3.3 elevado ao cubo é: 35.937\n"
     ]
    }
   ],
   "source": [
    "num1 = int(input('Insira um número inteiro: '))\n",
    "num2 = int(input('Insira outro número inteiro: '))\n",
    "num3 = float(input('Insira um número real: '))\n",
    "dobro = num1 * 2\n",
    "metade = num2 / 2\n",
    "produto = dobro * metade\n",
    "triplo = num1 * 3\n",
    "soma = triplo + num3\n",
    "cubo = num3 ** 3\n",
    "print(f'O produto do dobro do {num1} com metade do {num2} é: {produto}')\n",
    "print(f'A soma do triplo do {num1} com o {num3} é: {soma}')\n",
    "print(f'O {num3} elevado ao cubo é: {cubo}')"
   ]
  },
  {
   "cell_type": "markdown",
   "id": "e633266d",
   "metadata": {},
   "source": [
    "### 11) Faça um programa que peça o peso e altura de uma pessoa e calcule seu IMC (Índice de Massa Corporal).\n",
    "#### Obs: IMC = Peso/Altura**2"
   ]
  },
  {
   "cell_type": "code",
   "execution_count": 32,
   "id": "ec075351",
   "metadata": {},
   "outputs": [
    {
     "name": "stdout",
     "output_type": "stream",
     "text": [
      "Insira o seu peso: 60\n",
      "Insira a sua altura: 1.75\n",
      "o seu IMC é de: 19.59\n"
     ]
    }
   ],
   "source": [
    "peso = float(input('Insira o seu peso: '))\n",
    "altura = float(input('Insira a sua altura: '))\n",
    "imc = peso / altura ** 2\n",
    "print('o seu IMC é de: %.2f' %imc)"
   ]
  },
  {
   "cell_type": "markdown",
   "id": "85d61244",
   "metadata": {},
   "source": [
    "### 12) Faça um programa que peça um valor monetário e aumente-o em 15%. Seu programa deve imprimir a mensagem “O novo valor é [valor]”."
   ]
  },
  {
   "cell_type": "code",
   "execution_count": 36,
   "id": "a87399ca",
   "metadata": {},
   "outputs": [
    {
     "name": "stdout",
     "output_type": "stream",
     "text": [
      "Valor monetário: 11.50\n",
      "O novo valor é: 13.22\n"
     ]
    }
   ],
   "source": [
    "valorMonetario = float(input('Valor monetário: '))\n",
    "valor = valorMonetario + valorMonetario * (15 / 100)\n",
    "print('O novo valor é: %.2f' %valor)"
   ]
  },
  {
   "cell_type": "markdown",
   "id": "8dde8968",
   "metadata": {},
   "source": [
    "### 13) Faça um programa que peça um valor monetário e diminua-o em 15%. Seu programa deve imprimir a mensagem “O novo valor é [valor]”."
   ]
  },
  {
   "cell_type": "code",
   "execution_count": 37,
   "id": "f285cc32",
   "metadata": {},
   "outputs": [
    {
     "name": "stdout",
     "output_type": "stream",
     "text": [
      "Valor monetário: 11.50\n",
      "O novo valor é: 9.78\n"
     ]
    }
   ],
   "source": [
    "valorMonetario = float(input('Valor monetário: '))\n",
    "valor = valorMonetario - valorMonetario * (15 / 100)\n",
    "print('O novo valor é: %.2f' %valor)"
   ]
  },
  {
   "cell_type": "markdown",
   "id": "1456dd1e",
   "metadata": {},
   "source": [
    "### Desafio 1 - Peça para o usuário digitar uma velocidade inicial (em m/s), uma posição inicial (em m) e um instante de tempo (em s) e imprima a posição de um projétil nesse instante de tempo.\n",
    "#### Use a fórmula matemática:\n",
    "#### y(t) = y(0) + v(0)*t + (g*(t**2)/2)\n",
    "#### Onde, g é a aceleração da gravidade (-10m/s²), y(t) é a posição final, y(0) é a posição inicial, v(0) é a velocidade inicial e t é o instante de tempo."
   ]
  },
  {
   "cell_type": "code",
   "execution_count": 42,
   "id": "7c834e60",
   "metadata": {},
   "outputs": [
    {
     "name": "stdout",
     "output_type": "stream",
     "text": [
      "Insira a velocidade Inicial: 4\n",
      "Insira a posicão inicial: 6\n",
      "Insira um instante de tempo: 8\n",
      "A posicao de um projetil nesse instante de tempo é de: -282.0\n"
     ]
    }
   ],
   "source": [
    "velocidadeInicial = float(input('Insira a velocidade Inicial: '))\n",
    "posicaoInicial = float(input('Insira a posicão inicial: '))\n",
    "tempo = float(input('Insira um instante de tempo: '))\n",
    "resultado = posicaoInicial + velocidadeInicial * tempo + (-10 * tempo**2 / 2)\n",
    "print(f'A posicao de um projetil nesse instante de tempo é de: {resultado}')"
   ]
  },
  {
   "cell_type": "markdown",
   "id": "5c886eca",
   "metadata": {},
   "source": [
    "### Desafio 2 - Faça um programa que informe a data e a hora para o usuário. Para isso use a função datetime.now() do módulo datetime."
   ]
  },
  {
   "cell_type": "code",
   "execution_count": 52,
   "id": "b32e68e8",
   "metadata": {},
   "outputs": [
    {
     "name": "stdout",
     "output_type": "stream",
     "text": [
      "1/4/2023\n",
      "23:02:53\n"
     ]
    }
   ],
   "source": [
    "from datetime import datetime\n",
    "dt = datetime.now()\n",
    "print(f'{dt.day}/{dt.month}/{dt.year}\\n' '%02d'%dt.hour + ':%02d'%dt.minute + ':%02d'%dt.second)"
   ]
  }
 ],
 "metadata": {
  "kernelspec": {
   "display_name": "Python 3 (ipykernel)",
   "language": "python",
   "name": "python3"
  },
  "language_info": {
   "codemirror_mode": {
    "name": "ipython",
    "version": 3
   },
   "file_extension": ".py",
   "mimetype": "text/x-python",
   "name": "python",
   "nbconvert_exporter": "python",
   "pygments_lexer": "ipython3",
   "version": "3.10.5"
  }
 },
 "nbformat": 4,
 "nbformat_minor": 5
}
