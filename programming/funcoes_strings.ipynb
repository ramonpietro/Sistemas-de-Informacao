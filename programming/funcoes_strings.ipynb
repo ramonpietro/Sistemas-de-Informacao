{
 "cells": [
  {
   "cell_type": "markdown",
   "id": "71500886",
   "metadata": {},
   "source": [
    "1. Faça um programa que peça para o usuário digitar uma palavra e imprima cada letra em uma linha."
   ]
  },
  {
   "cell_type": "code",
   "execution_count": 11,
   "id": "f56fa1bf",
   "metadata": {},
   "outputs": [
    {
     "name": "stdout",
     "output_type": "stream",
     "text": [
      "Insira uma palavra: UFOPA\n",
      "U\n",
      "F\n",
      "O\n",
      "P\n",
      "A\n"
     ]
    }
   ],
   "source": [
    "def imprimirLetra():\n",
    "    palavra = input('Insira uma palavra: ')\n",
    "    letras = list(palavra)\n",
    "    for letra in letras:\n",
    "        print(letra)\n",
    "    \n",
    "imprimirLetra()"
   ]
  },
  {
   "cell_type": "markdown",
   "id": "2533332b",
   "metadata": {},
   "source": [
    "2. Faça um programa que pede para o usuário digitar uma palavra e cria uma nova string igual, copiando letra por letra a palavra digitada, depois imprima a nova string."
   ]
  },
  {
   "cell_type": "code",
   "execution_count": 1,
   "id": "dca4dd44",
   "metadata": {},
   "outputs": [
    {
     "name": "stdout",
     "output_type": "stream",
     "text": [
      "Digite uma palavra: sábado\n",
      "sábado\n"
     ]
    }
   ],
   "source": [
    "palavra = input('Digite uma palavra: ')\n",
    "nova_string = str()\n",
    "for i in palavra:\n",
    "    nova_string += i\n",
    "print(nova_string)"
   ]
  },
  {
   "cell_type": "markdown",
   "id": "7de1404b",
   "metadata": {},
   "source": [
    "3. Altere o exercício anterior para que a string copiada alterne entre letras maiúsculas e minúsculas.\n",
    "\n",
    "Exemplo: se o usuário digitar \"latex\" o programa deve imprimir \"LaTeX\"."
   ]
  },
  {
   "cell_type": "code",
   "execution_count": 2,
   "id": "1e3473e6",
   "metadata": {},
   "outputs": [
    {
     "name": "stdout",
     "output_type": "stream",
     "text": [
      "Digite uma palavra: domingo\n",
      "DoMiNgO\n"
     ]
    }
   ],
   "source": [
    "palavra = input('Digite uma palavra: ')\n",
    "nova_string = str()\n",
    "for i in range(len(palavra)):\n",
    "    if i % 2 == 0:\n",
    "        nova_string += palavra[i].upper()\n",
    "    else:\n",
    "        nova_string += palavra[i].lower()\n",
    "print(nova_string)"
   ]
  },
  {
   "cell_type": "markdown",
   "id": "05234300",
   "metadata": {},
   "source": [
    "4. Faça um programa que pede para o usuário digitar uma palavra e cria uma nova string igual, porém com espaço entre cada letra, depois imprima a nova string:\n",
    "\n",
    "Exemplo: se o usuário digitar \"python\" o programa deve imprimir \"p y t h o n \""
   ]
  },
  {
   "cell_type": "code",
   "execution_count": 4,
   "id": "f6dab3e3",
   "metadata": {},
   "outputs": [
    {
     "name": "stdout",
     "output_type": "stream",
     "text": [
      "Digite uma palavra: caderno\n",
      "c a d e r n o \n"
     ]
    }
   ],
   "source": [
    "palavra = input('Digite uma palavra: ')\n",
    "nova_string = ''.join([palavra[i] + ' ' for i in range(len(palavra))])\n",
    "print(nova_string)"
   ]
  },
  {
   "cell_type": "markdown",
   "id": "b6b309a0",
   "metadata": {},
   "source": [
    "5. Faça uma função que receba uma string e retorne uma nova string substituindo:\n",
    "\n",
    "'a' por '4'\n",
    "\n",
    "'e' por '3'\n",
    "\n",
    "'I' por '1'\n",
    "\n",
    "'t' por '7'"
   ]
  },
  {
   "cell_type": "code",
   "execution_count": null,
   "id": "8cb36900",
   "metadata": {},
   "outputs": [],
   "source": []
  },
  {
   "cell_type": "markdown",
   "id": "ce9b10ba",
   "metadata": {},
   "source": [
    "6. Faça uma função que recebe uma string e retorna ela ao contrário.\n",
    "\n",
    "Exemplo: Recebe \"teste\" e retorna \"etset\"."
   ]
  },
  {
   "cell_type": "code",
   "execution_count": 9,
   "id": "f4302a96",
   "metadata": {},
   "outputs": [
    {
     "data": {
      "text/plain": [
       "'etset'"
      ]
     },
     "execution_count": 9,
     "metadata": {},
     "output_type": "execute_result"
    }
   ],
   "source": [
    "def inverso(palavra):\n",
    "    inverso = palavra[::-1]\n",
    "    return inverso\n",
    "\n",
    "palavra = 'teste'\n",
    "inverso(palavra)"
   ]
  },
  {
   "cell_type": "markdown",
   "id": "ab8b0974",
   "metadata": {},
   "source": [
    "7. Agora faça uma função que recebe uma palavra e diz se ela é um palíndromo, ou seja, se ela é igual a ela mesma ao contrário.\n",
    "\n",
    "Dica: Use a função do exercício 6."
   ]
  },
  {
   "cell_type": "code",
   "execution_count": 10,
   "id": "a1b5d875",
   "metadata": {},
   "outputs": [
    {
     "name": "stdout",
     "output_type": "stream",
     "text": [
      "É palindrono\n"
     ]
    }
   ],
   "source": [
    "def inverso(palavra):\n",
    "    inverso = palavra[::-1]\n",
    "    if palavra == inverso:\n",
    "        print('É palindrono')\n",
    "    else:\n",
    "        print('Não é palindrono')\n",
    "        \n",
    "palavra = 'hannah'\n",
    "inverso(palavra)"
   ]
  },
  {
   "cell_type": "markdown",
   "id": "f589ecd2",
   "metadata": {},
   "source": [
    "8. Faça uma função que receba um texto e uma palavra, então verifique se a palavra está no texto, retornando True ou False."
   ]
  },
  {
   "cell_type": "code",
   "execution_count": 12,
   "id": "ddb1c854",
   "metadata": {},
   "outputs": [
    {
     "data": {
      "text/plain": [
       "False"
      ]
     },
     "execution_count": 12,
     "metadata": {},
     "output_type": "execute_result"
    }
   ],
   "source": [
    "def verifica_palavra(texto, palavra):\n",
    "    if palavra in texto:\n",
    "        return True\n",
    "    else:\n",
    "        return False\n",
    "\n",
    "texto = 'Que belo dia.'\n",
    "palavra = 'sol'\n",
    "verifica_palavra(texto, palavra)"
   ]
  },
  {
   "cell_type": "markdown",
   "id": "196c9334",
   "metadata": {},
   "source": [
    "9. Faça uma função que receba uma string que contém tanto números quanto letras e caracteres especiais, e que separe as letras em uma variável e os números em outra (os caracteres especiais podem ser descartados). Ao final a função deve imprimir as duas variáveis."
   ]
  },
  {
   "cell_type": "code",
   "execution_count": 29,
   "id": "b4333161",
   "metadata": {},
   "outputs": [
    {
     "name": "stdout",
     "output_type": "stream",
     "text": [
      "textoqualquer\n",
      "1\n"
     ]
    }
   ],
   "source": [
    "def separador(string):\n",
    "    letras = ''\n",
    "    numeros = ''\n",
    "    for caractere in string:\n",
    "        if caractere.isalpha():\n",
    "            letras += caractere\n",
    "        elif caractere.isdigit():\n",
    "            numeros += caractere\n",
    "    print(letras)\n",
    "    print(numeros)\n",
    "string = '1 texto qualquer @'\n",
    "separador(string)"
   ]
  },
  {
   "cell_type": "markdown",
   "id": "d3121514",
   "metadata": {},
   "source": [
    "Desafio - Faça uma função que receba uma string e uma letra e:\n",
    "\n",
    "a. imprima quantas vezes a letra aparece na string;\n",
    "\n",
    "b. imprima todas as posições em que a letra aparece na string;\n",
    "\n",
    "c. retorne a distância entre a primeira e a última aparição dessa letra na string."
   ]
  },
  {
   "cell_type": "code",
   "execution_count": 26,
   "id": "0e837d9a",
   "metadata": {},
   "outputs": [
    {
     "name": "stdout",
     "output_type": "stream",
     "text": [
      "3\n",
      "[1, 3, 5]\n",
      "4\n"
     ]
    }
   ],
   "source": [
    "def verificacao(string, letra):\n",
    "    posicao = [i for i, j in enumerate(string) if j == letra]\n",
    "    print(string.count(letra))\n",
    "    print(posicao)\n",
    "    print(posicao[-1] - posicao[0])\n",
    "\n",
    "string = 'banana'\n",
    "letra = 'a'\n",
    "verificacao(string, letra)"
   ]
  },
  {
   "cell_type": "markdown",
   "id": "b243f6f2",
   "metadata": {},
   "source": [
    "Super Desafio! - faça uma função que criptografa uma mensagem substituindo cada letra pela letra oposta do dicionário:\n",
    "\n",
    "'a' por 'z'\n",
    "\n",
    "'b' por 'y'\n",
    "\n",
    "'c' por 'x'\n",
    "\n",
    "..."
   ]
  },
  {
   "cell_type": "code",
   "execution_count": 22,
   "id": "9c90b35e",
   "metadata": {},
   "outputs": [
    {
     "data": {
      "text/plain": [
       "'nvmhztvn xirkgltizuzwz'"
      ]
     },
     "execution_count": 22,
     "metadata": {},
     "output_type": "execute_result"
    }
   ],
   "source": [
    "def criptografia(mensagem):\n",
    "    dicio = {\n",
    "        'a': 'z',\n",
    "        'b': 'y',\n",
    "        'c': 'x',\n",
    "        'd': 'w',\n",
    "        'e': 'v',\n",
    "        'f': 'u',\n",
    "        'g': 't',\n",
    "        'h': 's',\n",
    "        'i': 'r',\n",
    "        'j': 'q',\n",
    "        'k': 'p',\n",
    "        'l': 'o',\n",
    "        'm': 'n',\n",
    "        'n': 'm',\n",
    "        'o': 'l',\n",
    "        'p': 'k',\n",
    "        'q': 'j',\n",
    "        'r': 'i',\n",
    "        's': 'h',\n",
    "        't': 'g',\n",
    "        'u': 'f',\n",
    "        'v': 'e',\n",
    "        'w': 'd',\n",
    "        'x': 'c',\n",
    "        'y': 'b',\n",
    "        'z': 'a',\n",
    "    }\n",
    "    nova_mensagem = ''\n",
    "    for letra in mensagem:\n",
    "        if letra in dicio:\n",
    "            nova_mensagem += dicio[letra]\n",
    "        else:\n",
    "            nova_mensagem += letra\n",
    "    return nova_mensagem\n",
    "\n",
    "mensagem = 'mensagem criptografada'\n",
    "criptografia(mensagem)"
   ]
  },
  {
   "cell_type": "code",
   "execution_count": null,
   "id": "8b4cf29b",
   "metadata": {},
   "outputs": [],
   "source": []
  }
 ],
 "metadata": {
  "kernelspec": {
   "display_name": "Python 3 (ipykernel)",
   "language": "python",
   "name": "python3"
  },
  "language_info": {
   "codemirror_mode": {
    "name": "ipython",
    "version": 3
   },
   "file_extension": ".py",
   "mimetype": "text/x-python",
   "name": "python",
   "nbconvert_exporter": "python",
   "pygments_lexer": "ipython3",
   "version": "3.11.3"
  }
 },
 "nbformat": 4,
 "nbformat_minor": 5
}
