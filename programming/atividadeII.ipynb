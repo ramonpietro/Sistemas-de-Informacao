{
 "cells": [
  {
   "cell_type": "markdown",
   "id": "3c3df200",
   "metadata": {},
   "source": [
    "#### Faça um programa que peça a idade do usuário e imprima se ele é maior ou menor de 18 anos."
   ]
  },
  {
   "cell_type": "code",
   "execution_count": 1,
   "id": "88f1e6dc",
   "metadata": {},
   "outputs": [
    {
     "name": "stdout",
     "output_type": "stream",
     "text": [
      "Insira a sua idade: 18\n",
      "Você é maior de idade.\n"
     ]
    }
   ],
   "source": [
    "idade = int(input(\"Insira a sua idade: \"))\n",
    "if idade >= 18:\n",
    "    print(\"Você é maior de idade.\")\n",
    "else:\n",
    "    print(\"Você é menor de idade.\")"
   ]
  },
  {
   "cell_type": "markdown",
   "id": "109309d4",
   "metadata": {},
   "source": [
    "#### Faça um programa que peça um número e mostre se ele é positivo ou negativo."
   ]
  },
  {
   "cell_type": "code",
   "execution_count": 2,
   "id": "c8793739",
   "metadata": {},
   "outputs": [
    {
     "name": "stdout",
     "output_type": "stream",
     "text": [
      "Insira um número: 2\n",
      "O número digitado é positivo.\n"
     ]
    }
   ],
   "source": [
    "numero = int(input(\"Insira um número: \"))\n",
    "if numero >= 0:\n",
    "    print(\"O número digitado é positivo.\")\n",
    "else:\n",
    "    print(\"O número digitado é negativo.\")"
   ]
  },
  {
   "cell_type": "markdown",
   "id": "20f95b95",
   "metadata": {},
   "source": [
    "#### Faça um programa que peça dois números e mostre o maior deles."
   ]
  },
  {
   "cell_type": "code",
   "execution_count": 74,
   "id": "3de34464",
   "metadata": {},
   "outputs": [
    {
     "name": "stdout",
     "output_type": "stream",
     "text": [
      "Insira dois numeros:\n",
      "\n",
      "Insira um número: 2\n",
      "Insira um número: 5\n",
      "5\n"
     ]
    }
   ],
   "source": [
    "print('Insira dois numeros:\\n')\n",
    "numeros = [int(input('Insira um número: ')) for i in range(2)]\n",
    "print(max(numeros))"
   ]
  },
  {
   "cell_type": "markdown",
   "id": "d38d5b89",
   "metadata": {},
   "source": [
    "#### Faça um programa que leia a validade das informações:\n",
    "##### a. Idade: entre 0 e 150;\n",
    "##### b. Salário: maior que 0;\n",
    "##### c. Sexo: M, F ou Outro;\n",
    "##### O programa deve imprimir uma mensagem de erro para cada informação inválida."
   ]
  },
  {
   "cell_type": "code",
   "execution_count": 28,
   "id": "7670311d",
   "metadata": {},
   "outputs": [
    {
     "name": "stdout",
     "output_type": "stream",
     "text": [
      "Insira a sua idade: 22\n",
      "Agora o seu salário: 2222.00\n",
      "Agora o seu sexo: M\n"
     ]
    }
   ],
   "source": [
    "idade = int(input(\"Insira a sua idade: \"))\n",
    "salario = float(input(\"Agora o seu salário: \"))\n",
    "sexo = input(\"Agora o seu sexo: \")\n",
    "if idade not in range(0, 150):\n",
    "    print(\"Erro. A idade precisa estar entre 0 e 150\")\n",
    "if salario <= 0:\n",
    "    print(\"Erro! Salario inválido.\")\n",
    "if sexo not in['S', 'M', 'Outro']:\n",
    "    print(\"Erro! Sexo invalido\")"
   ]
  },
  {
   "cell_type": "markdown",
   "id": "66a38592",
   "metadata": {},
   "source": [
    "#### Escreva um programa que peça a nota de 3 provas de um aluno e verifique se ele passou ou não de ano.\n",
    "##### Obs.: O aluno irá passar de ano se sua média for maior que 6."
   ]
  },
  {
   "cell_type": "code",
   "execution_count": 30,
   "id": "18455f74",
   "metadata": {},
   "outputs": [
    {
     "name": "stdout",
     "output_type": "stream",
     "text": [
      "Insira a nota da primeira prova: 1.3\n",
      "Insira a nota da segunda prova: 2.1\n",
      "Insira a nota da terceira prova: 3.3\n",
      "Aluno reprovado!\n"
     ]
    }
   ],
   "source": [
    "nota1 = float(input(\"Insira a nota da primeira prova: \"))\n",
    "nota2 = float(input(\"Insira a nota da segunda prova: \"))\n",
    "nota3 = float(input(\"Insira a nota da terceira prova: \"))\n",
    "media = (nota1 + nota2 + nota3) / 3\n",
    "if media > 6.0:\n",
    "    print(\"Aluno aprovado!\")\n",
    "else:\n",
    "    print(\"Aluno reprovado!\")"
   ]
  },
  {
   "cell_type": "markdown",
   "id": "bdcac45d",
   "metadata": {},
   "source": [
    "#### Faça um programa que mostre uma questão de múltipla escolha com 5 opções (letras a, b, c, d, e). Sabendo a resposta certa, o programa deve receber a opção do usuário e informar a letra que o usuário marcou e se a resposta está certa ou errada."
   ]
  },
  {
   "cell_type": "code",
   "execution_count": 7,
   "id": "1e3d47cf",
   "metadata": {},
   "outputs": [
    {
     "name": "stdout",
     "output_type": "stream",
     "text": [
      "Escolha o animal correto:\n",
      "a) Cavalo\n",
      "b) Cachorro\n",
      "c) Galinha\n",
      "d) Gato\n",
      "e) Coelho\n",
      "d\n",
      "Parabéns. Você acertou! \\o/\n",
      "A opção escolhida foi a letra d\n"
     ]
    }
   ],
   "source": [
    "print('Escolha o animal correto:')\n",
    "opcao = input('a) Cavalo\\nb) Cachorro\\nc) Galinha\\nd) Gato\\ne) Coelho\\n')\n",
    "if opcao == 'd':\n",
    "    print(f'Parabéns. Você acertou! \\o/\\nA opção escolhida foi a letra {opcao}')\n",
    "else:\n",
    "    print('Nao foi dessa vez. :(')"
   ]
  },
  {
   "cell_type": "markdown",
   "id": "9d739360",
   "metadata": {},
   "source": [
    "#### Vamos fazer um programa para verificar quem é o assassino de um crime. Para descobrir o assassino, a polícia faz um pequeno questionário com 5 perguntas onde a resposta só pode ser sim ou não:\n",
    "##### a. Mora perto da vítima?\n",
    "##### b. Já trabalhou com a vítima?\n",
    "##### c. Telefonou para a vítima?\n",
    "##### d. Esteve no local do crime?\n",
    "##### e. Devia para a vítima?\n",
    "##### Cada resposta sim dá um ponto para o suspeito. A polícia considera que os suspeitos com 5 pontos são os assassinos, com 4 a 3 pontos são cúmplices e 2 pontos são apenas suspeitos, necessitando outras investigações. Valores iguais ou abaixo de 1 são liberados."
   ]
  },
  {
   "cell_type": "code",
   "execution_count": 16,
   "id": "910b2fe6",
   "metadata": {},
   "outputs": [
    {
     "name": "stdout",
     "output_type": "stream",
     "text": [
      "Mora perto da vítima? sim\n",
      "Já trabalhou com a vítima? sim\n",
      "Telefonou para a vítima? sim\n",
      "Esteve no local do crime? sim\n",
      "Devia para a vítima? sim\n",
      "Assassino\n"
     ]
    }
   ],
   "source": [
    "pontos = 0\n",
    "pontos += 1 if input('Mora perto da vítima? ') == 'sim' else 0\n",
    "pontos += 1 if input('Já trabalhou com a vítima? ') == 'sim' else 0\n",
    "pontos += 1 if input('Telefonou para a vítima? ') == 'sim' else 0\n",
    "pontos += 1 if input('Esteve no local do crime? ') == 'sim' else 0\n",
    "pontos += 1 if input('Devia para a vítima? ') == 'sim' else 0\n",
    "if pontos == 5:\n",
    "    print('Assassino')\n",
    "elif pontos == 4 or pontos == 3:\n",
    "    print('Cumplice')\n",
    "elif pontos == 2:\n",
    "    print('Suspeito')\n",
    "elif pontos <= 1:\n",
    "    print('Liberado')"
   ]
  },
  {
   "cell_type": "markdown",
   "id": "9d81ab49",
   "metadata": {},
   "source": [
    "#### Um produto vai sofrer aumento de acordo com a Tabela 1 abaixo. Faça um programa que peça para o usuário digitar o valor do produto de acordo com o preço antigo e escreva uma das mensagens da Tabela 2, de acordo com o preço reajustado:"
   ]
  },
  {
   "cell_type": "code",
   "execution_count": 38,
   "id": "a8e71a8b",
   "metadata": {},
   "outputs": [
    {
     "name": "stdout",
     "output_type": "stream",
     "text": [
      "Qual o valor antigo do produto escolhido? 25\n",
      "Barato\n"
     ]
    }
   ],
   "source": [
    "precoAntigo = float(input('Qual o valor antigo do produto escolhido? '))\n",
    "if precoAntigo <= 50:\n",
    "    aumento = 0.05\n",
    "elif produto > 50 or produto < 100:\n",
    "    aumento = 0.1\n",
    "elif produto >= 100 and produto < 150:\n",
    "    aumento = 0.13\n",
    "elif produto > 150:\n",
    "    aumento = 0.15 \n",
    "precoNovo = precoAntigo * (1 + aumento)\n",
    "if precoNovo <= 80:\n",
    "    print('Barato')\n",
    "elif precoNovo <= 115:\n",
    "    print('Razoavel')\n",
    "elif precoNovo <= 150:\n",
    "    print('Normal')\n",
    "elif precoNovo <= 170:\n",
    "    print('Caro')\n",
    "else:\n",
    "    print('Muito caro')"
   ]
  },
  {
   "cell_type": "markdown",
   "id": "32fe1343",
   "metadata": {},
   "source": [
    "#### Desafio 1 - Faça um programa que leia 3 números e informe o maior deles."
   ]
  },
  {
   "cell_type": "code",
   "execution_count": 60,
   "id": "353925a2",
   "metadata": {},
   "outputs": [
    {
     "name": "stdout",
     "output_type": "stream",
     "text": [
      "Insira um numero: 6\n",
      "Insira um numero: 2\n",
      "Insira um numero: 1\n",
      "6\n"
     ]
    }
   ],
   "source": [
    "numeros = [int(input('Insira um numero: ')) for i in range(3)]\n",
    "print(max(numeros))"
   ]
  },
  {
   "cell_type": "markdown",
   "id": "235aa147",
   "metadata": {},
   "source": [
    "#### Desafio 2 - Faça o mesmo programa do exercício anterior, porém com 4 números."
   ]
  },
  {
   "cell_type": "code",
   "execution_count": 61,
   "id": "9e2bb42d",
   "metadata": {},
   "outputs": [
    {
     "name": "stdout",
     "output_type": "stream",
     "text": [
      "Insira um numero: 3\n",
      "Insira um numero: 2\n",
      "Insira um numero: 8\n",
      "Insira um numero: 9\n",
      "9\n"
     ]
    }
   ],
   "source": [
    "numeros = [int(input('Insira um numero: ')) for i in range(4)]\n",
    "print(max(numeros))"
   ]
  },
  {
   "cell_type": "markdown",
   "id": "e0c940a9",
   "metadata": {},
   "source": [
    "#### Desafio 3 - Um hospital quer fazer o diagnóstico de gripe ou dengue a partir de um questionário de sintomas, tendo as perguntas abaixo, faça um programa que faça o diagnóstico deste hospital:\n",
    "##### a. Sente dor no corpo?\n",
    "##### b. Você tem febre?\n",
    "##### c. Você tem tosse?\n",
    "##### d. Está com congestão nasal?\n",
    "##### e. Tem manchas pelo corpo?"
   ]
  },
  {
   "cell_type": "code",
   "execution_count": 70,
   "id": "9455eca0",
   "metadata": {},
   "outputs": [
    {
     "name": "stdout",
     "output_type": "stream",
     "text": [
      "a) Sente dor no corpo? nao\n",
      "b) Você tem febre? nao\n",
      "c) Você tem tosse? nao\n",
      "d) Está com congestâo nasal? nao\n",
      "e) Tem manchas pelo corpo? nao\n",
      "Sem doenças\n"
     ]
    }
   ],
   "source": [
    "a = input('a) Sente dor no corpo? ')\n",
    "b = input('b) Você tem febre? ')\n",
    "c = input('c) Você tem tosse? ')\n",
    "d = input('d) Está com congestâo nasal? ')\n",
    "e = input('e) Tem manchas pelo corpo? ')\n",
    "\n",
    "if [a, b, c, d, e] == ['sim', 'sim', 'nao', 'nao', 'sim']:\n",
    "    print('Dengue')\n",
    "elif [a, b, c, d, e] == ['sim', 'sim', 'sim', 'sim', 'nao'] or [a, b, c, d, e] == ['nao', 'sim', 'sim', 'sim', 'nao']:\n",
    "    print('Gripe')\n",
    "elif [a, b, c, d, e] == ['sim', 'nao', 'nao', 'nao', 'nao'] or [a, b, c, d, e] == ['nao', 'nao', 'nao', 'nao', 'nao']:\n",
    "    print('Sem doenças')\n"
   ]
  }
 ],
 "metadata": {
  "kernelspec": {
   "display_name": "Python 3 (ipykernel)",
   "language": "python",
   "name": "python3"
  },
  "language_info": {
   "codemirror_mode": {
    "name": "ipython",
    "version": 3
   },
   "file_extension": ".py",
   "mimetype": "text/x-python",
   "name": "python",
   "nbconvert_exporter": "python",
   "pygments_lexer": "ipython3",
   "version": "3.10.5"
  }
 },
 "nbformat": 4,
 "nbformat_minor": 5
}
