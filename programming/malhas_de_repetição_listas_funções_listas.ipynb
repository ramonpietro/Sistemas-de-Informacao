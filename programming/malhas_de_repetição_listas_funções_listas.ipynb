{
 "cells": [
  {
   "cell_type": "markdown",
   "id": "123e0d25",
   "metadata": {},
   "source": [
    "1) Crie uma lista qualquer e faça um programa que imprima cada elemento da lista usando o for."
   ]
  },
  {
   "cell_type": "code",
   "execution_count": 6,
   "id": "91cb3e64",
   "metadata": {},
   "outputs": [
    {
     "name": "stdout",
     "output_type": "stream",
     "text": [
      "1\n",
      "2\n",
      "3\n",
      "4\n",
      "5\n",
      "6\n"
     ]
    }
   ],
   "source": [
    "lista = [1, 2, 3, 4, 5, 6]\n",
    "for item in lista:\n",
    "    print(item)"
   ]
  },
  {
   "cell_type": "markdown",
   "id": "0840c2d1",
   "metadata": {},
   "source": [
    "2) Faça um programa que imprima todos os itens de uma lista usando while e compare com o exercício 1."
   ]
  },
  {
   "cell_type": "code",
   "execution_count": 9,
   "id": "2527b601",
   "metadata": {},
   "outputs": [
    {
     "name": "stdout",
     "output_type": "stream",
     "text": [
      "1\n",
      "2\n",
      "3\n",
      "4\n",
      "5\n",
      "6\n"
     ]
    }
   ],
   "source": [
    "lista = [1, 2, 3, 4, 5, 6]\n",
    "i = 0\n",
    "while i < len(lista):\n",
    "    print(lista[i])\n",
    "    i += 1"
   ]
  },
  {
   "cell_type": "markdown",
   "id": "cc8a5e67",
   "metadata": {},
   "source": [
    "3) Faça um programa que peça para o usuário digitar um número n e imprima uma lista com todos os números de 0 a n-1.\n",
    "\n",
    "Exemplo: se o usuário digitar 5, o programa deve imprimir [0, 1, 2, 3, 4]"
   ]
  },
  {
   "cell_type": "code",
   "execution_count": 11,
   "id": "be152282",
   "metadata": {},
   "outputs": [
    {
     "name": "stdout",
     "output_type": "stream",
     "text": [
      "Insira um número: 5\n",
      "[0, 1, 2, 3, 4]\n"
     ]
    }
   ],
   "source": [
    "numero = int(input('Insira um número: '))\n",
    "numero_parada = [i for i in range(numero)]\n",
    "print(numero_parada)"
   ]
  },
  {
   "cell_type": "markdown",
   "id": "1041a607",
   "metadata": {},
   "source": [
    "4) Faça um programa que olhe todos os itens de uma lista e diga quantos deles são pares."
   ]
  },
  {
   "cell_type": "code",
   "execution_count": 17,
   "id": "384a2568",
   "metadata": {},
   "outputs": [
    {
     "name": "stdout",
     "output_type": "stream",
     "text": [
      "Existe 6 números pares na lista.\n"
     ]
    }
   ],
   "source": [
    "lista = [1, 2, 3, 4, 6, 8, 10, 12]\n",
    "cont = 0\n",
    "for i in lista:\n",
    "    if i % 2 == 0:\n",
    "        cont += 1\n",
    "print(f'Existe {cont} números pares na lista.')"
   ]
  },
  {
   "cell_type": "markdown",
   "id": "e8c55d6b",
   "metadata": {},
   "source": [
    "5) Faça um programa que imprima o maior número de uma lista, sem usar a função max()."
   ]
  },
  {
   "cell_type": "code",
   "execution_count": 20,
   "id": "6b41795e",
   "metadata": {},
   "outputs": [
    {
     "name": "stdout",
     "output_type": "stream",
     "text": [
      "O maior número da lista é: 12\n"
     ]
    }
   ],
   "source": [
    "lista = [1, 2, 3, 12, 6, 10, 8, 4]\n",
    "maior = lista[0]\n",
    "for i in lista:\n",
    "    if i > maior:\n",
    "        maior = i\n",
    "print(f'O maior número da lista é: {maior}')"
   ]
  },
  {
   "cell_type": "markdown",
   "id": "d5c76501",
   "metadata": {},
   "source": [
    "6) Agora usando a função max() faça um programa que imprima os três maiores números de uma lista.\n",
    "\n",
    "Dica: Use o método próprio de listas .remove()."
   ]
  },
  {
   "cell_type": "code",
   "execution_count": 24,
   "id": "92e213cb",
   "metadata": {},
   "outputs": [
    {
     "name": "stdout",
     "output_type": "stream",
     "text": [
      "[12, 10, 8]\n"
     ]
    }
   ],
   "source": [
    "lista = [1, 2, 3, 12, 6, 10, 8, 4]\n",
    "maiores = []\n",
    "for i in range(3):\n",
    "    maior = max(lista)\n",
    "    maiores.append(maior)\n",
    "    lista.remove(maior)\n",
    "    \n",
    "print(maiores)"
   ]
  },
  {
   "cell_type": "markdown",
   "id": "8612e2e0",
   "metadata": {},
   "source": [
    "7) Faça um programa que, dadas duas listas de mesmo tamanho, crie uma nova lista com cada elemento igual a soma dos elementos da lista 1 com os da lista 2, na mesma posição.\n",
    "\n",
    "Exemplo:\n",
    "\n",
    "Dadas lista1 = [1, 4, 5] e lista2 = [2, 2, 3], então lista3 = [1+2, 4+2, 5+3] = [3, 6, 8]"
   ]
  },
  {
   "cell_type": "code",
   "execution_count": 28,
   "id": "394e5f70",
   "metadata": {},
   "outputs": [
    {
     "name": "stdout",
     "output_type": "stream",
     "text": [
      "[3, 6, 8]\n"
     ]
    }
   ],
   "source": [
    "lista1 = [1, 4, 5]\n",
    "lista2 = [2, 2, 3]\n",
    "lista3 = []\n",
    "for i in range(len(lista1)):\n",
    "    soma = lista1[i] + lista2[i]\n",
    "    lista3.append(soma)\n",
    "print(lista3)"
   ]
  },
  {
   "cell_type": "markdown",
   "id": "902d7f97",
   "metadata": {},
   "source": [
    "8) Faça um programa que dadas duas listas de mesmo tamanho, imprima o produto escalar entre elas.\n",
    "\n",
    "OBS: produto escalar é a soma do resultado da multiplicação entre o número na posição i da lista1 pelo número na posição i da lista2, com i variando de 0 ao tamanho da lista."
   ]
  },
  {
   "cell_type": "code",
   "execution_count": 29,
   "id": "62d2fc16",
   "metadata": {},
   "outputs": [
    {
     "name": "stdout",
     "output_type": "stream",
     "text": [
      "25\n"
     ]
    }
   ],
   "source": [
    "lista1 = [1, 4, 5]\n",
    "lista2 = [2, 2, 3]\n",
    "pe = 0\n",
    "for i in range(len(lista1)):\n",
    "    pe += lista1[i] * lista2[i]\n",
    "print(pe)"
   ]
  },
  {
   "cell_type": "markdown",
   "id": "5182e2bc",
   "metadata": {},
   "source": [
    "9) Faça um programa que pede para o usuário digitar 5 números e, ao final, imprime uma lista com os 5 números digitados pelo usuário (sem converter os números para int ou float).\n",
    "\n",
    "Exemplo: Se o usuário digitar 1, 5, 2, 3, 6, o programa deve imprimir a lista ['1','5','2','3','6']"
   ]
  },
  {
   "cell_type": "code",
   "execution_count": 34,
   "id": "dd0b7122",
   "metadata": {},
   "outputs": [
    {
     "name": "stdout",
     "output_type": "stream",
     "text": [
      "Insira 5 números: 4 3 2 1 0\n",
      "['4', '3', '2', '1', '0']\n"
     ]
    }
   ],
   "source": [
    "numeros = input('Insira 5 números: ').split(' ')\n",
    "print(numeros)"
   ]
  },
  {
   "cell_type": "markdown",
   "id": "0b4e8d9a",
   "metadata": {},
   "source": [
    "10) Pegue a lista gerada no exercício anterior e transforme cada um dos itens dessa lista em um float.\n",
    "\n",
    "OBS: Não é para alterar o programa anterior, mas sim a lista gerada por ele."
   ]
  },
  {
   "cell_type": "code",
   "execution_count": 36,
   "id": "4ac7ae0d",
   "metadata": {},
   "outputs": [
    {
     "name": "stdout",
     "output_type": "stream",
     "text": [
      "[4.0, 3.0, 2.0, 1.0, 0.0]\n"
     ]
    }
   ],
   "source": [
    "numeros = ['4', '3', '2', '1', '0']\n",
    "num_float = list(map(float, numeros))\n",
    "print(num_float)"
   ]
  },
  {
   "cell_type": "markdown",
   "id": "5df6c0e7",
   "metadata": {},
   "source": [
    "11) Faça um programa que peça as 4 notas bimestrais e mostre a média aritmética delas, usando listas."
   ]
  },
  {
   "cell_type": "code",
   "execution_count": 42,
   "id": "bb1b7398",
   "metadata": {},
   "outputs": [
    {
     "name": "stdout",
     "output_type": "stream",
     "text": [
      "Insira 4 notas: 6.6 4.4 3.3 7.7\n",
      "A média do aluno é: 5.5\n"
     ]
    }
   ],
   "source": [
    "notas = list(map(float, input('Insira 4 notas: ').split(' ')))\n",
    "media = sum(notas) / len(notas)\n",
    "print(f'A média do aluno é: {media}')"
   ]
  },
  {
   "cell_type": "markdown",
   "id": "ba7ec50b",
   "metadata": {},
   "source": [
    "12) Sorteie uma lista de 10 números e imprima:\n",
    "\n",
    "a. uma lista com os 4 primeiros números;\n",
    "\n",
    "b. uma lista com os 5 últimos números;\n",
    "\n",
    "c. uma lista contendo apenas os elementos das posições pares;\n",
    "\n",
    "d. uma lista contendo apenas os elementos das posições ímpares;\n",
    "\n",
    "e. a lista inversa da lista sorteada (isto é, uma lista que começa com o último elemento da lista sorteada e termina com o primeiro);\n",
    "\n",
    "f. uma lista inversa dos 5 primeiros números;\n",
    "\n",
    "g. uma lista inversa dos 5 últimos números."
   ]
  },
  {
   "cell_type": "code",
   "execution_count": 78,
   "id": "59a7eaaa",
   "metadata": {
    "scrolled": true
   },
   "outputs": [
    {
     "name": "stdout",
     "output_type": "stream",
     "text": [
      "[38, 45, 91, 84, 50, 97, 94, 81, 33, 65]\n",
      "a) [38, 45, 91, 84]\n",
      "b) [97, 94, 81, 33, 65]\n",
      "c) [38, 91, 50, 94, 33]\n",
      "d) [45, 84, 97, 81, 65]\n",
      "e) [65, 33, 81, 94, 97, 50, 84, 91, 45, 38]\n",
      "f) [50, 84, 91, 45, 38]\n",
      "g) [65, 33, 81, 94, 97]\n"
     ]
    }
   ],
   "source": [
    "import random\n",
    "numeros = random.sample(range(1, 101), 10)\n",
    "print(numeros)\n",
    "a = numeros[:4]\n",
    "b = numeros[-5:]\n",
    "c = numeros[::2]\n",
    "d = numeros[1::2]\n",
    "e = numeros[::-1]\n",
    "f = numeros[:5][::-1]\n",
    "g = numeros[-5:][::-1]\n",
    "print(f'a) {a}\\nb) {b}\\nc) {c}\\nd) {d}\\ne) {e}\\nf) {f}\\ng) {g}')"
   ]
  },
  {
   "cell_type": "markdown",
   "id": "4948bd42",
   "metadata": {},
   "source": [
    "13) Faça um programa que sorteia 10 números entre 0 e 100 e conte quantos números sorteados são maiores que 50."
   ]
  },
  {
   "cell_type": "code",
   "execution_count": 47,
   "id": "2360987f",
   "metadata": {},
   "outputs": [
    {
     "name": "stdout",
     "output_type": "stream",
     "text": [
      "[61, 33, 30, 34, 48, 58, 68, 54, 81, 64]\n",
      "6\n"
     ]
    }
   ],
   "source": [
    "import random\n",
    "numeros = random.sample(range(1, 101), 10)\n",
    "print(numeros)\n",
    "cont = 0\n",
    "for numero in numeros:\n",
    "    if numero > 50:\n",
    "        cont += 1\n",
    "print(cont)"
   ]
  },
  {
   "cell_type": "markdown",
   "id": "c7c4807c",
   "metadata": {},
   "source": [
    "14) Faça um programa que sorteie 10 números entre 0 e 100 e imprima:\n",
    "\n",
    "a. o maior número sorteado;\n",
    "\n",
    "b. o menor número sorteado;\n",
    "\n",
    "c. a média dos números sorteados;\n",
    "\n",
    "d. a soma dos números sorteados."
   ]
  },
  {
   "cell_type": "code",
   "execution_count": 61,
   "id": "2d9153d1",
   "metadata": {},
   "outputs": [
    {
     "name": "stdout",
     "output_type": "stream",
     "text": [
      "[78, 8, 85, 7, 59, 35, 67, 20, 26, 95]\n",
      "a) 95\n",
      "b) 7\n",
      "c) 48.0\n",
      "d) 480\n"
     ]
    }
   ],
   "source": [
    "import random\n",
    "numeros = random.sample(range(1, 101), 10)\n",
    "print(f'{numeros}\\na) {max(numeros)}\\nb) {min(numeros)}\\nc) {float(sum(numeros) / len(numeros))}\\nd) {sum(numeros)}')"
   ]
  },
  {
   "cell_type": "markdown",
   "id": "e5b9a872",
   "metadata": {},
   "source": [
    "Desafio 1 - Faça um programa que peça para o usuário digitar o nome e a idade de um aluno e o número de provas que esse aluno fez. Depois, o programa deve pedir para o usuário digitar as notas de cada prova do aluno. Ao final o programa deve imprimir uma lista contendo:\n",
    "\n",
    "a. Nome do aluno na posição 0;\n",
    "\n",
    "b. Idade do aluno na posição 1;\n",
    "\n",
    "c. Uma lista com todas as notas na posição 2;\n",
    "\n",
    "d. A média do aluno na posição 3;\n",
    "\n",
    "e. True ou False, caso a média seja maior que 5 ou não, na posição 4.\n",
    "\n",
    "Dica: Use o que você fez nos exercícios anteriores para criar esse programa."
   ]
  },
  {
   "cell_type": "code",
   "execution_count": 66,
   "id": "de32352c",
   "metadata": {},
   "outputs": [
    {
     "name": "stdout",
     "output_type": "stream",
     "text": [
      "Insira o seu nome: joão\n",
      "Insira a sua idade: 19\n",
      "Quantas provas você fez: 3\n",
      "Insira a sua nota: 10.0\n",
      "Insira a sua nota: 10.0\n",
      "Insira a sua nota: 10.0\n",
      "['joão', 19, [10.0, 10.0, 10.0], 10.0, True]\n"
     ]
    }
   ],
   "source": [
    "nome = input('Insira o seu nome: ')\n",
    "idade = int(input('Insira a sua idade: '))\n",
    "provas = int(input('Quantas provas você fez: '))\n",
    "notas = [float(input('Insira a sua nota: ')) for i in range(provas)]\n",
    "media = sum(notas) / len(notas)\n",
    "estudante = [nome, idade, notas, media, True if media > 5 else False]\n",
    "print(estudante)"
   ]
  },
  {
   "cell_type": "markdown",
   "id": "f238d5ed",
   "metadata": {},
   "source": [
    "Desafio 2 - Faça um programa como o do item anterior, porém que imprima a média sem considerar a maior e menor nota do aluno (nesse caso o número de provas precisa ser obrigatoriamente maior que dois).\n",
    "\n",
    "Dica: crie uma cópia com a lista de todas as notas antes de fazer a média."
   ]
  },
  {
   "cell_type": "code",
   "execution_count": 67,
   "id": "22fca1f1",
   "metadata": {},
   "outputs": [
    {
     "name": "stdout",
     "output_type": "stream",
     "text": [
      "Insira o seu nome: maria\n",
      "Insira a sua idade: 18\n",
      "Quantas provas você fez: 4\n",
      "Insira a sua nota: 10.0\n",
      "Insira a sua nota: 5.6\n",
      "Insira a sua nota: 4.3\n",
      "Insira a sua nota: 2.2\n",
      "['maria', 18, [5.6, 4.3], 4.949999999999999, False]\n"
     ]
    }
   ],
   "source": [
    "nome = input('Insira o seu nome: ')\n",
    "idade = int(input('Insira a sua idade: '))\n",
    "provas = int(input('Quantas provas você fez: '))\n",
    "notas = [float(input('Insira a sua nota: ')) for i in range(provas)]\n",
    "notas_copy = notas\n",
    "notas_copy.remove(max(notas_copy))\n",
    "notas_copy.remove(min(notas_copy))\n",
    "media = sum(notas_copy) / len(notas_copy)\n",
    "estudante = [nome, idade, notas, media, True if media > 5 else False]\n",
    "print(estudante)"
   ]
  },
  {
   "cell_type": "code",
   "execution_count": null,
   "id": "9c489586",
   "metadata": {},
   "outputs": [],
   "source": []
  }
 ],
 "metadata": {
  "kernelspec": {
   "display_name": "Python 3 (ipykernel)",
   "language": "python",
   "name": "python3"
  },
  "language_info": {
   "codemirror_mode": {
    "name": "ipython",
    "version": 3
   },
   "file_extension": ".py",
   "mimetype": "text/x-python",
   "name": "python",
   "nbconvert_exporter": "python",
   "pygments_lexer": "ipython3",
   "version": "3.11.3"
  }
 },
 "nbformat": 4,
 "nbformat_minor": 5
}
